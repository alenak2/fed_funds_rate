{
 "cells": [
  {
   "cell_type": "code",
   "execution_count": 1,
   "id": "fb3cc2fd-b1d5-45d0-b6b5-139c39450625",
   "metadata": {},
   "outputs": [
    {
     "name": "stdout",
     "output_type": "stream",
     "text": [
      "Requirement already satisfied: nbformat in /Users/akalodzitsa/opt/anaconda3/lib/python3.9/site-packages (5.1.3)\n",
      "Requirement already satisfied: jupyter-core in /Users/akalodzitsa/opt/anaconda3/lib/python3.9/site-packages (from nbformat) (4.9.1)\n",
      "Requirement already satisfied: ipython-genutils in /Users/akalodzitsa/opt/anaconda3/lib/python3.9/site-packages (from nbformat) (0.2.0)\n",
      "Requirement already satisfied: jsonschema!=2.5.0,>=2.4 in /Users/akalodzitsa/opt/anaconda3/lib/python3.9/site-packages (from nbformat) (3.2.0)\n",
      "Requirement already satisfied: traitlets>=4.1 in /Users/akalodzitsa/opt/anaconda3/lib/python3.9/site-packages (from nbformat) (5.1.1)\n",
      "Requirement already satisfied: attrs>=17.4.0 in /Users/akalodzitsa/opt/anaconda3/lib/python3.9/site-packages (from jsonschema!=2.5.0,>=2.4->nbformat) (21.2.0)\n",
      "Requirement already satisfied: pyrsistent>=0.14.0 in /Users/akalodzitsa/opt/anaconda3/lib/python3.9/site-packages (from jsonschema!=2.5.0,>=2.4->nbformat) (0.18.0)\n",
      "Requirement already satisfied: six>=1.11.0 in /Users/akalodzitsa/opt/anaconda3/lib/python3.9/site-packages (from jsonschema!=2.5.0,>=2.4->nbformat) (1.12.0)\n",
      "Requirement already satisfied: setuptools in /Users/akalodzitsa/opt/anaconda3/lib/python3.9/site-packages (from jsonschema!=2.5.0,>=2.4->nbformat) (58.0.4)\n",
      "Note: you may need to restart the kernel to use updated packages.\n"
     ]
    }
   ],
   "source": [
    "#pip install nbformat"
   ]
  },
  {
   "cell_type": "code",
   "execution_count": 1,
   "id": "4b6d6e74-c77c-4c48-8940-a5f8ded4f8a4",
   "metadata": {},
   "outputs": [],
   "source": [
    "import nbformat"
   ]
  },
  {
   "cell_type": "code",
   "execution_count": 9,
   "id": "fab09d8a-bb92-4b0e-8851-5f223fde119c",
   "metadata": {},
   "outputs": [],
   "source": [
    "# Reading the notebooks\n",
    "first_nb = nbformat.read('../1_FOMC_Analysis_Preliminary.ipynb', 4)\n",
    "second_nb = nbformat.read('../2_FOMC_Analysis_Preprocess_NonText.ipynb', 4)\n",
    "third_nb = nbformat.read('../3_FOMC_Analysis_Preprocess_Text.ipynb', 4)\n",
    "fourth_nb = nbformat.read('../4_FOMC_Analysis_EDA_FE_NonText.ipynb', 4)"
   ]
  },
  {
   "cell_type": "code",
   "execution_count": 10,
   "id": "3ee0b0dd-4c36-466f-bf6a-52cfa9709516",
   "metadata": {},
   "outputs": [],
   "source": [
    "# Creating a new notebook\n",
    "final_nb = nbformat.v4.new_notebook(metadata=first_nb.metadata)"
   ]
  },
  {
   "cell_type": "code",
   "execution_count": 11,
   "id": "62206218-e000-431e-a584-b8b90f406320",
   "metadata": {},
   "outputs": [],
   "source": [
    "# Concatenating the notebooks\n",
    "final_nb.cells = first_nb.cells + second_nb.cells + third_nb.cells + fourth_nb.cells"
   ]
  },
  {
   "cell_type": "code",
   "execution_count": 13,
   "id": "fa35d124-226a-4761-879e-b94395132ff7",
   "metadata": {},
   "outputs": [],
   "source": [
    "#Saving the new notebook \n",
    "nbformat.write(final_nb, '../AK_Fed_Funds_Forecasting_Model.ipynb')"
   ]
  },
  {
   "cell_type": "code",
   "execution_count": null,
   "id": "7c7f8a19-248f-4538-b866-38df9a5c589b",
   "metadata": {},
   "outputs": [],
   "source": []
  }
 ],
 "metadata": {
  "kernelspec": {
   "display_name": "Python 3 (ipykernel)",
   "language": "python",
   "name": "python3"
  },
  "language_info": {
   "codemirror_mode": {
    "name": "ipython",
    "version": 3
   },
   "file_extension": ".py",
   "mimetype": "text/x-python",
   "name": "python",
   "nbconvert_exporter": "python",
   "pygments_lexer": "ipython3",
   "version": "3.9.7"
  }
 },
 "nbformat": 4,
 "nbformat_minor": 5
}
