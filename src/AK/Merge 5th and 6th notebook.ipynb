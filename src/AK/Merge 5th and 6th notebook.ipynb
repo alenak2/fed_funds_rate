{
 "cells": [
  {
   "cell_type": "markdown",
   "id": "c21e5403-6b5e-48dd-984c-5bafbc34a9c4",
   "metadata": {},
   "source": [
    "## Merge 5th and 6th notebook"
   ]
  },
  {
   "cell_type": "code",
   "execution_count": 4,
   "id": "07d27e87-754c-4737-a2c6-ad4e04d20aea",
   "metadata": {},
   "outputs": [],
   "source": [
    "import nbformat"
   ]
  },
  {
   "cell_type": "code",
   "execution_count": 5,
   "id": "7d9637a0-6b2c-4d5e-b552-85def045627f",
   "metadata": {},
   "outputs": [],
   "source": [
    "one_to_four = nbformat.read('../Draft_AK_Fed_Funds_Forecasting_Model-Copy1.ipynb', 4)\n",
    "fifth_nb = nbformat.read('../AK5_Fed_Funds_LDA-Copy1.ipynb', 4)\n",
    "sixth_nb = nbformat.read('../AK6_Fed_Funds_Model-Copy1.ipynb', 4)"
   ]
  },
  {
   "cell_type": "code",
   "execution_count": 6,
   "id": "1b0137c9-f6ea-4ccf-949b-574207e88c78",
   "metadata": {},
   "outputs": [],
   "source": [
    "# Creating a new notebook\n",
    "final_nb = nbformat.v4.new_notebook(metadata=one_to_four.metadata)"
   ]
  },
  {
   "cell_type": "code",
   "execution_count": 7,
   "id": "fdda0eff-e71a-4931-b8d9-1c97c88f2463",
   "metadata": {},
   "outputs": [],
   "source": [
    "final_nb.cells = one_to_four.cells + fifth_nb.cells + sixth_nb.cells"
   ]
  },
  {
   "cell_type": "code",
   "execution_count": 8,
   "id": "a7d266f7-ab0f-4a24-9f16-3a7f860247ca",
   "metadata": {},
   "outputs": [],
   "source": [
    "#Saving the new notebook \n",
    "nbformat.write(final_nb, '../Updated_Fed_Funds_Forecasting_Model.ipynb')"
   ]
  },
  {
   "cell_type": "code",
   "execution_count": null,
   "id": "1c1a124e-236d-496b-aceb-f8586d475ce1",
   "metadata": {},
   "outputs": [],
   "source": []
  }
 ],
 "metadata": {
  "kernelspec": {
   "display_name": "Python 3 (ipykernel)",
   "language": "python",
   "name": "python3"
  },
  "language_info": {
   "codemirror_mode": {
    "name": "ipython",
    "version": 3
   },
   "file_extension": ".py",
   "mimetype": "text/x-python",
   "name": "python",
   "nbconvert_exporter": "python",
   "pygments_lexer": "ipython3",
   "version": "3.9.7"
  }
 },
 "nbformat": 4,
 "nbformat_minor": 5
}
