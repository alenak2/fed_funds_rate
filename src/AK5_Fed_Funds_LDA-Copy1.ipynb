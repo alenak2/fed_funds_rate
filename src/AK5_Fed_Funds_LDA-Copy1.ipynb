{
 "cells": [
  {
   "cell_type": "code",
   "execution_count": 11,
   "metadata": {},
   "outputs": [],
   "source": [
    "import pandas as pd\n",
    "import matplotlib.pyplot as plt\n",
    "import numpy as np\n",
    "import re\n",
    "from pprint import pprint\n",
    "\n",
    "import pickle\n",
    "import gensim\n",
    "from gensim.models.ldamulticore import LdaMulticore\n",
    "from gensim import corpora, models\n",
    "from gensim.utils import simple_preprocess\n",
    "from gensim.models import CoherenceModel\n",
    "import pyLDAvis\n",
    "import pyLDAvis.gensim_models\n",
    "\n",
    "import string\n",
    "\n",
    "import warnings\n",
    "warnings.simplefilter('ignore')\n",
    "from itertools import chain\n",
    "from sklearn.feature_extraction.text import CountVectorizer\n",
    "from tqdm import tqdm\n",
    "from tqdm.auto import tqdm\n",
    "\n",
    "import datetime as dt\n",
    "import os\n",
    "from dateutil.relativedelta import *"
   ]
  },
  {
   "cell_type": "code",
   "execution_count": 12,
   "metadata": {},
   "outputs": [],
   "source": [
    "import nltk\n",
    "from nltk.corpus import stopwords\n",
    "from nltk.stem import WordNetLemmatizer"
   ]
  },
  {
   "cell_type": "markdown",
   "metadata": {},
   "source": [
    "## Define Functions"
   ]
  },
  {
   "cell_type": "code",
   "execution_count": 13,
   "metadata": {},
   "outputs": [],
   "source": [
    "def clean(text):\n",
    "#     from nltk.corpus import stopwords\n",
    "#     from nltk.stem import WordNetLemmatizer\n",
    "    \n",
    "    exclude = set(string.punctuation)\n",
    "    stop = set(stopwords.words('english'))\n",
    "    lemma = WordNetLemmatizer()\n",
    "    \n",
    "    text = re.sub('[^A-z,.-]+', ' ', text)\n",
    "\n",
    "    stop_free = ' '.join([word for word in text.lower().split() if word not in stop])\n",
    "    punc_free = ''.join(ch for ch in stop_free if ch not in exclude)\n",
    "    normalized = ' '.join([lemma.lemmatize(word) for word in punc_free.split()])\n",
    "    return normalized.split()\n",
    "\n",
    "def bigrams(words, bi_min=15, tri_min=10):\n",
    "    bigram = gensim.models.Phrases(words, min_count = bi_min)\n",
    "    print(f\"bigram is {bigram} \")\n",
    "    bigram_mod = gensim.models.phrases.Phraser(bigram)\n",
    "    return bigram_mod\n",
    "    \n",
    "def get_corpus(text_clean):\n",
    "    bigram_mod = bigrams(text_clean)\n",
    "    bigram = [bigram_mod[review] for review in text_clean]\n",
    "    id2word = gensim.corpora.Dictionary(bigram)\n",
    "    id2word.filter_extremes(no_below=10, no_above=0.35)\n",
    "    id2word.compactify()\n",
    "    corpus = [id2word.doc2bow(text) for text in bigram]\n",
    "    return corpus, id2word, bigram\n",
    "\n",
    "\n",
    "def compute_coherence_values(dictionary, corpus, texts, limit, start=2, step=3):\n",
    "    from gensim.models.ldamodel import LdaModel\n",
    "    \"\"\"\n",
    "    # From https://datascienceplus.com/evaluation-of-topic-modeling-topic-coherence/\n",
    "    \n",
    "    Compute c_v coherence for various number of topics\n",
    "\n",
    "    Parameters:\n",
    "    ----------\n",
    "    dictionary : Gensim dictionary\n",
    "    corpus : Gensim corpus\n",
    "    texts : List of input texts\n",
    "    limit : Max num of topics\n",
    "\n",
    "    Returns:\n",
    "    -------\n",
    "    model_list : List of LDA topic models\n",
    "    coherence_values : Coherence values corresponding to the LDA model with respective number of topics\n",
    "    \"\"\"\n",
    "    coherence_values = []\n",
    "    model_list = []\n",
    "    for num_topics in range(start, limit, step):\n",
    "        model=LdaModel(corpus=corpus, id2word=dictionary, num_topics=num_topics, passes = 4)\n",
    "        model_list.append(model)\n",
    "        coherencemodel = CoherenceModel(model=model, texts=texts, dictionary=dictionary, coherence='c_v')\n",
    "        coherence_values.append(coherencemodel.get_coherence())\n",
    "\n",
    "    return model_list, coherence_values"
   ]
  },
  {
   "cell_type": "markdown",
   "metadata": {},
   "source": [
    "## Load Preprocessed Data"
   ]
  },
  {
   "cell_type": "code",
   "execution_count": 14,
   "metadata": {},
   "outputs": [
    {
     "name": "stdout",
     "output_type": "stream",
     "text": [
      "(396, 57)\n"
     ]
    },
    {
     "data": {
      "text/html": [
       "<div>\n",
       "<style scoped>\n",
       "    .dataframe tbody tr th:only-of-type {\n",
       "        vertical-align: middle;\n",
       "    }\n",
       "\n",
       "    .dataframe tbody tr th {\n",
       "        vertical-align: top;\n",
       "    }\n",
       "\n",
       "    .dataframe thead th {\n",
       "        text-align: right;\n",
       "    }\n",
       "</style>\n",
       "<table border=\"1\" class=\"dataframe\">\n",
       "  <thead>\n",
       "    <tr style=\"text-align: right;\">\n",
       "      <th></th>\n",
       "      <th>unscheduled</th>\n",
       "      <th>forecast</th>\n",
       "      <th>confcall</th>\n",
       "      <th>Rate</th>\n",
       "      <th>RateDiff</th>\n",
       "      <th>RateDecision</th>\n",
       "      <th>ChairPerson</th>\n",
       "      <th>RateChanged</th>\n",
       "      <th>GDP_date</th>\n",
       "      <th>GDP_value</th>\n",
       "      <th>...</th>\n",
       "      <th>Hsales_diff_year</th>\n",
       "      <th>Taylor</th>\n",
       "      <th>Balanced</th>\n",
       "      <th>Inertia</th>\n",
       "      <th>Taylor-Rate</th>\n",
       "      <th>Balanced-Rate</th>\n",
       "      <th>Inertia-Rate</th>\n",
       "      <th>Taylor_diff</th>\n",
       "      <th>Balanced_diff</th>\n",
       "      <th>Inertia_diff</th>\n",
       "    </tr>\n",
       "    <tr>\n",
       "      <th>date</th>\n",
       "      <th></th>\n",
       "      <th></th>\n",
       "      <th></th>\n",
       "      <th></th>\n",
       "      <th></th>\n",
       "      <th></th>\n",
       "      <th></th>\n",
       "      <th></th>\n",
       "      <th></th>\n",
       "      <th></th>\n",
       "      <th></th>\n",
       "      <th></th>\n",
       "      <th></th>\n",
       "      <th></th>\n",
       "      <th></th>\n",
       "      <th></th>\n",
       "      <th></th>\n",
       "      <th></th>\n",
       "      <th></th>\n",
       "      <th></th>\n",
       "      <th></th>\n",
       "    </tr>\n",
       "  </thead>\n",
       "  <tbody>\n",
       "    <tr>\n",
       "      <th>1982-10-05</th>\n",
       "      <td>False</td>\n",
       "      <td>False</td>\n",
       "      <td>False</td>\n",
       "      <td>9.5</td>\n",
       "      <td>-0.5</td>\n",
       "      <td>-1</td>\n",
       "      <td>NaN</td>\n",
       "      <td>1</td>\n",
       "      <td>1982-04-01</td>\n",
       "      <td>6830.251</td>\n",
       "      <td>...</td>\n",
       "      <td>42.307692</td>\n",
       "      <td>7.428054</td>\n",
       "      <td>4.300007</td>\n",
       "      <td>7.854999</td>\n",
       "      <td>-2.571946</td>\n",
       "      <td>-5.699993</td>\n",
       "      <td>-2.145001</td>\n",
       "      <td>NaN</td>\n",
       "      <td>NaN</td>\n",
       "      <td>NaN</td>\n",
       "    </tr>\n",
       "    <tr>\n",
       "      <th>1982-11-16</th>\n",
       "      <td>False</td>\n",
       "      <td>False</td>\n",
       "      <td>False</td>\n",
       "      <td>9.0</td>\n",
       "      <td>-0.5</td>\n",
       "      <td>-1</td>\n",
       "      <td>NaN</td>\n",
       "      <td>1</td>\n",
       "      <td>1982-07-01</td>\n",
       "      <td>6804.139</td>\n",
       "      <td>...</td>\n",
       "      <td>34.831461</td>\n",
       "      <td>6.397952</td>\n",
       "      <td>2.690992</td>\n",
       "      <td>7.671351</td>\n",
       "      <td>-3.102048</td>\n",
       "      <td>-6.809008</td>\n",
       "      <td>-1.828649</td>\n",
       "      <td>-1.030102</td>\n",
       "      <td>-1.609015</td>\n",
       "      <td>-0.183648</td>\n",
       "    </tr>\n",
       "    <tr>\n",
       "      <th>1982-12-21</th>\n",
       "      <td>False</td>\n",
       "      <td>False</td>\n",
       "      <td>False</td>\n",
       "      <td>8.5</td>\n",
       "      <td>0.0</td>\n",
       "      <td>0</td>\n",
       "      <td>NaN</td>\n",
       "      <td>0</td>\n",
       "      <td>1982-07-01</td>\n",
       "      <td>6804.139</td>\n",
       "      <td>...</td>\n",
       "      <td>45.026178</td>\n",
       "      <td>6.456348</td>\n",
       "      <td>2.749388</td>\n",
       "      <td>6.812592</td>\n",
       "      <td>-2.043652</td>\n",
       "      <td>-5.750612</td>\n",
       "      <td>-1.687408</td>\n",
       "      <td>0.058396</td>\n",
       "      <td>0.058396</td>\n",
       "      <td>-0.858759</td>\n",
       "    </tr>\n",
       "    <tr>\n",
       "      <th>1983-01-14</th>\n",
       "      <td>False</td>\n",
       "      <td>False</td>\n",
       "      <td>True</td>\n",
       "      <td>8.5</td>\n",
       "      <td>0.0</td>\n",
       "      <td>0</td>\n",
       "      <td>NaN</td>\n",
       "      <td>0</td>\n",
       "      <td>1982-07-01</td>\n",
       "      <td>6804.139</td>\n",
       "      <td>...</td>\n",
       "      <td>14.004376</td>\n",
       "      <td>6.117343</td>\n",
       "      <td>2.410384</td>\n",
       "      <td>6.863442</td>\n",
       "      <td>-2.382657</td>\n",
       "      <td>-6.089616</td>\n",
       "      <td>-1.636558</td>\n",
       "      <td>-0.339005</td>\n",
       "      <td>-0.339005</td>\n",
       "      <td>0.050851</td>\n",
       "    </tr>\n",
       "    <tr>\n",
       "      <th>1983-01-21</th>\n",
       "      <td>False</td>\n",
       "      <td>False</td>\n",
       "      <td>True</td>\n",
       "      <td>8.5</td>\n",
       "      <td>0.0</td>\n",
       "      <td>0</td>\n",
       "      <td>NaN</td>\n",
       "      <td>0</td>\n",
       "      <td>1982-07-01</td>\n",
       "      <td>6804.139</td>\n",
       "      <td>...</td>\n",
       "      <td>14.004376</td>\n",
       "      <td>6.117343</td>\n",
       "      <td>2.410384</td>\n",
       "      <td>6.863442</td>\n",
       "      <td>-2.382657</td>\n",
       "      <td>-6.089616</td>\n",
       "      <td>-1.636558</td>\n",
       "      <td>0.000000</td>\n",
       "      <td>0.000000</td>\n",
       "      <td>0.000000</td>\n",
       "    </tr>\n",
       "  </tbody>\n",
       "</table>\n",
       "<p>5 rows × 57 columns</p>\n",
       "</div>"
      ],
      "text/plain": [
       "            unscheduled  forecast  confcall  Rate  RateDiff  RateDecision  \\\n",
       "date                                                                        \n",
       "1982-10-05        False     False     False   9.5      -0.5            -1   \n",
       "1982-11-16        False     False     False   9.0      -0.5            -1   \n",
       "1982-12-21        False     False     False   8.5       0.0             0   \n",
       "1983-01-14        False     False      True   8.5       0.0             0   \n",
       "1983-01-21        False     False      True   8.5       0.0             0   \n",
       "\n",
       "           ChairPerson  RateChanged   GDP_date  GDP_value  ...  \\\n",
       "date                                                       ...   \n",
       "1982-10-05         NaN            1 1982-04-01   6830.251  ...   \n",
       "1982-11-16         NaN            1 1982-07-01   6804.139  ...   \n",
       "1982-12-21         NaN            0 1982-07-01   6804.139  ...   \n",
       "1983-01-14         NaN            0 1982-07-01   6804.139  ...   \n",
       "1983-01-21         NaN            0 1982-07-01   6804.139  ...   \n",
       "\n",
       "            Hsales_diff_year    Taylor  Balanced   Inertia  Taylor-Rate  \\\n",
       "date                                                                      \n",
       "1982-10-05         42.307692  7.428054  4.300007  7.854999    -2.571946   \n",
       "1982-11-16         34.831461  6.397952  2.690992  7.671351    -3.102048   \n",
       "1982-12-21         45.026178  6.456348  2.749388  6.812592    -2.043652   \n",
       "1983-01-14         14.004376  6.117343  2.410384  6.863442    -2.382657   \n",
       "1983-01-21         14.004376  6.117343  2.410384  6.863442    -2.382657   \n",
       "\n",
       "            Balanced-Rate Inertia-Rate  Taylor_diff  Balanced_diff  \\\n",
       "date                                                                 \n",
       "1982-10-05      -5.699993    -2.145001          NaN            NaN   \n",
       "1982-11-16      -6.809008    -1.828649    -1.030102      -1.609015   \n",
       "1982-12-21      -5.750612    -1.687408     0.058396       0.058396   \n",
       "1983-01-14      -6.089616    -1.636558    -0.339005      -0.339005   \n",
       "1983-01-21      -6.089616    -1.636558     0.000000       0.000000   \n",
       "\n",
       "            Inertia_diff  \n",
       "date                      \n",
       "1982-10-05           NaN  \n",
       "1982-11-16     -0.183648  \n",
       "1982-12-21     -0.858759  \n",
       "1983-01-14      0.050851  \n",
       "1983-01-21      0.000000  \n",
       "\n",
       "[5 rows x 57 columns]"
      ]
     },
     "execution_count": 14,
     "metadata": {},
     "output_type": "execute_result"
    }
   ],
   "source": [
    "# Load nontext data\n",
    "file = open('../data/preprocessed/nontext_data.pickle', 'rb')\n",
    "nontext_data = pd.read_pickle(file)\n",
    "file.close()\n",
    "\n",
    "print(nontext_data.shape)\n",
    "nontext_data.head()"
   ]
  },
  {
   "cell_type": "code",
   "execution_count": 15,
   "metadata": {},
   "outputs": [
    {
     "name": "stdout",
     "output_type": "stream",
     "text": [
      "(9744, 11)\n"
     ]
    },
    {
     "data": {
      "text/html": [
       "<div>\n",
       "<style scoped>\n",
       "    .dataframe tbody tr th:only-of-type {\n",
       "        vertical-align: middle;\n",
       "    }\n",
       "\n",
       "    .dataframe tbody tr th {\n",
       "        vertical-align: top;\n",
       "    }\n",
       "\n",
       "    .dataframe thead th {\n",
       "        text-align: right;\n",
       "    }\n",
       "</style>\n",
       "<table border=\"1\" class=\"dataframe\">\n",
       "  <thead>\n",
       "    <tr style=\"text-align: right;\">\n",
       "      <th></th>\n",
       "      <th>type</th>\n",
       "      <th>date</th>\n",
       "      <th>title</th>\n",
       "      <th>speaker</th>\n",
       "      <th>word_count</th>\n",
       "      <th>decision</th>\n",
       "      <th>rate</th>\n",
       "      <th>next_meeting</th>\n",
       "      <th>next_decision</th>\n",
       "      <th>next_rate</th>\n",
       "      <th>text</th>\n",
       "    </tr>\n",
       "  </thead>\n",
       "  <tbody>\n",
       "    <tr>\n",
       "      <th>0</th>\n",
       "      <td>statement</td>\n",
       "      <td>1994-02-04</td>\n",
       "      <td>FOMC Statement</td>\n",
       "      <td>Alan Greenspan</td>\n",
       "      <td>99</td>\n",
       "      <td>1</td>\n",
       "      <td>3.25</td>\n",
       "      <td>1994-02-28</td>\n",
       "      <td>0</td>\n",
       "      <td>3.25</td>\n",
       "      <td>Chairman Alan Greenspan announced today that t...</td>\n",
       "    </tr>\n",
       "    <tr>\n",
       "      <th>1</th>\n",
       "      <td>statement</td>\n",
       "      <td>1994-03-22</td>\n",
       "      <td>FOMC Statement</td>\n",
       "      <td>Alan Greenspan</td>\n",
       "      <td>40</td>\n",
       "      <td>1</td>\n",
       "      <td>3.5</td>\n",
       "      <td>1994-04-18</td>\n",
       "      <td>1</td>\n",
       "      <td>3.75</td>\n",
       "      <td>Chairman Alan Greenspan announced today that t...</td>\n",
       "    </tr>\n",
       "    <tr>\n",
       "      <th>2</th>\n",
       "      <td>statement</td>\n",
       "      <td>1994-04-18</td>\n",
       "      <td>FOMC Statement</td>\n",
       "      <td>Alan Greenspan</td>\n",
       "      <td>37</td>\n",
       "      <td>1</td>\n",
       "      <td>3.75</td>\n",
       "      <td>1994-05-17</td>\n",
       "      <td>1</td>\n",
       "      <td>4.25</td>\n",
       "      <td>Chairman Alan Greenspan announced today that t...</td>\n",
       "    </tr>\n",
       "    <tr>\n",
       "      <th>3</th>\n",
       "      <td>statement</td>\n",
       "      <td>1994-05-17</td>\n",
       "      <td>FOMC Statement</td>\n",
       "      <td>Alan Greenspan</td>\n",
       "      <td>57</td>\n",
       "      <td>1</td>\n",
       "      <td>4.25</td>\n",
       "      <td>1994-07-06</td>\n",
       "      <td>0</td>\n",
       "      <td>4.25</td>\n",
       "      <td>In taking the discount action, the Board appro...</td>\n",
       "    </tr>\n",
       "    <tr>\n",
       "      <th>4</th>\n",
       "      <td>statement</td>\n",
       "      <td>1994-08-16</td>\n",
       "      <td>FOMC Statement</td>\n",
       "      <td>Alan Greenspan</td>\n",
       "      <td>51</td>\n",
       "      <td>1</td>\n",
       "      <td>4.75</td>\n",
       "      <td>1994-09-27</td>\n",
       "      <td>0</td>\n",
       "      <td>4.75</td>\n",
       "      <td>In taking the discount rate action, the Board ...</td>\n",
       "    </tr>\n",
       "  </tbody>\n",
       "</table>\n",
       "</div>"
      ],
      "text/plain": [
       "        type       date           title         speaker  word_count decision  \\\n",
       "0  statement 1994-02-04  FOMC Statement  Alan Greenspan          99        1   \n",
       "1  statement 1994-03-22  FOMC Statement  Alan Greenspan          40        1   \n",
       "2  statement 1994-04-18  FOMC Statement  Alan Greenspan          37        1   \n",
       "3  statement 1994-05-17  FOMC Statement  Alan Greenspan          57        1   \n",
       "4  statement 1994-08-16  FOMC Statement  Alan Greenspan          51        1   \n",
       "\n",
       "   rate next_meeting next_decision  next_rate  \\\n",
       "0  3.25   1994-02-28             0       3.25   \n",
       "1   3.5   1994-04-18             1       3.75   \n",
       "2  3.75   1994-05-17             1       4.25   \n",
       "3  4.25   1994-07-06             0       4.25   \n",
       "4  4.75   1994-09-27             0       4.75   \n",
       "\n",
       "                                                text  \n",
       "0  Chairman Alan Greenspan announced today that t...  \n",
       "1  Chairman Alan Greenspan announced today that t...  \n",
       "2  Chairman Alan Greenspan announced today that t...  \n",
       "3  In taking the discount action, the Board appro...  \n",
       "4  In taking the discount rate action, the Board ...  "
      ]
     },
     "execution_count": 15,
     "metadata": {},
     "output_type": "execute_result"
    }
   ],
   "source": [
    "# Load text data\n",
    "file = open('../data/preprocessed/text_no_split.pickle', 'rb')\n",
    "text_data = pd.read_pickle(file)\n",
    "file.close()\n",
    "\n",
    "print(text_data.shape)\n",
    "text_data.head()"
   ]
  },
  {
   "cell_type": "markdown",
   "metadata": {},
   "source": [
    "## Review text types"
   ]
  },
  {
   "cell_type": "code",
   "execution_count": null,
   "metadata": {},
   "outputs": [],
   "source": []
  },
  {
   "cell_type": "code",
   "execution_count": 16,
   "metadata": {},
   "outputs": [
    {
     "data": {
      "text/plain": [
       "meeting_script     8653\n",
       "speech              439\n",
       "minutes             223\n",
       "statement           195\n",
       "testimony           185\n",
       "presconf_script      49\n",
       "Name: type, dtype: int64"
      ]
     },
     "execution_count": 16,
     "metadata": {},
     "output_type": "execute_result"
    }
   ],
   "source": [
    "# Frequency of text-data type\n",
    "text_data.type.value_counts()"
   ]
  },
  {
   "cell_type": "code",
   "execution_count": 17,
   "metadata": {},
   "outputs": [
    {
     "data": {
      "text/plain": [
       "<matplotlib.legend.Legend at 0x7fe398951ac0>"
      ]
     },
     "execution_count": 17,
     "metadata": {},
     "output_type": "execute_result"
    },
    {
     "data": {
      "image/png": "[encoded data removed]",
      "text/plain": [
       "<Figure size 432x288 with 1 Axes>"
      ]
     },
     "metadata": {
      "needs_background": "light"
     },
     "output_type": "display_data"
    }
   ],
   "source": [
    "# show timing of types -- drop meeting transcripts due to delay in release, press conference transcripts as only began in 2011\n",
    "plt.hist(text_data[text_data.type == 'minutes'].date, alpha = 0.5, label = 'meeting minutes')\n",
    "plt.hist(text_data[text_data.type == 'speech'].date, alpha = 0.5, label = 'speech')\n",
    "plt.hist(text_data[text_data.type == 'statement'].date, alpha = 0.5, label = 'statement')\n",
    "plt.hist(text_data[text_data.type == 'testimony'].date, alpha = 0.5, label = 'testimony')\n",
    "\n",
    "plt.legend()"
   ]
  },
  {
   "cell_type": "markdown",
   "metadata": {},
   "source": [
    "## Keep only Meeting Minutes, Speech, Statement, Testimony"
   ]
  },
  {
   "cell_type": "code",
   "execution_count": 18,
   "metadata": {},
   "outputs": [
    {
     "data": {
      "text/plain": [
       "(1042, 11)"
      ]
     },
     "execution_count": 18,
     "metadata": {},
     "output_type": "execute_result"
    }
   ],
   "source": [
    "text_filtered = text_data[text_data.type.isin(['minutes', 'speech', 'statement', 'testimony'])]\n",
    "text_filtered.shape"
   ]
  },
  {
   "cell_type": "markdown",
   "metadata": {},
   "source": [
    "## Clean text"
   ]
  },
  {
   "cell_type": "code",
   "execution_count": 19,
   "metadata": {},
   "outputs": [
    {
     "data": {
      "text/html": [
       "<div>\n",
       "<style scoped>\n",
       "    .dataframe tbody tr th:only-of-type {\n",
       "        vertical-align: middle;\n",
       "    }\n",
       "\n",
       "    .dataframe tbody tr th {\n",
       "        vertical-align: top;\n",
       "    }\n",
       "\n",
       "    .dataframe thead th {\n",
       "        text-align: right;\n",
       "    }\n",
       "</style>\n",
       "<table border=\"1\" class=\"dataframe\">\n",
       "  <thead>\n",
       "    <tr style=\"text-align: right;\">\n",
       "      <th></th>\n",
       "      <th>type</th>\n",
       "      <th>date</th>\n",
       "      <th>title</th>\n",
       "      <th>speaker</th>\n",
       "      <th>word_count</th>\n",
       "      <th>decision</th>\n",
       "      <th>rate</th>\n",
       "      <th>next_meeting</th>\n",
       "      <th>next_decision</th>\n",
       "      <th>next_rate</th>\n",
       "      <th>text</th>\n",
       "    </tr>\n",
       "  </thead>\n",
       "  <tbody>\n",
       "    <tr>\n",
       "      <th>0</th>\n",
       "      <td>statement</td>\n",
       "      <td>1994-02-04</td>\n",
       "      <td>FOMC Statement</td>\n",
       "      <td>Alan Greenspan</td>\n",
       "      <td>99</td>\n",
       "      <td>1</td>\n",
       "      <td>3.25</td>\n",
       "      <td>1994-02-28</td>\n",
       "      <td>0</td>\n",
       "      <td>3.25</td>\n",
       "      <td>Chairman Alan Greenspan announced today that t...</td>\n",
       "    </tr>\n",
       "    <tr>\n",
       "      <th>1</th>\n",
       "      <td>statement</td>\n",
       "      <td>1994-03-22</td>\n",
       "      <td>FOMC Statement</td>\n",
       "      <td>Alan Greenspan</td>\n",
       "      <td>40</td>\n",
       "      <td>1</td>\n",
       "      <td>3.5</td>\n",
       "      <td>1994-04-18</td>\n",
       "      <td>1</td>\n",
       "      <td>3.75</td>\n",
       "      <td>Chairman Alan Greenspan announced today that t...</td>\n",
       "    </tr>\n",
       "  </tbody>\n",
       "</table>\n",
       "</div>"
      ],
      "text/plain": [
       "        type       date           title         speaker  word_count decision  \\\n",
       "0  statement 1994-02-04  FOMC Statement  Alan Greenspan          99        1   \n",
       "1  statement 1994-03-22  FOMC Statement  Alan Greenspan          40        1   \n",
       "\n",
       "   rate next_meeting next_decision  next_rate  \\\n",
       "0  3.25   1994-02-28             0       3.25   \n",
       "1   3.5   1994-04-18             1       3.75   \n",
       "\n",
       "                                                text  \n",
       "0  Chairman Alan Greenspan announced today that t...  \n",
       "1  Chairman Alan Greenspan announced today that t...  "
      ]
     },
     "execution_count": 19,
     "metadata": {},
     "output_type": "execute_result"
    }
   ],
   "source": [
    "text_filtered.head(2)"
   ]
  },
  {
   "cell_type": "code",
   "execution_count": 20,
   "metadata": {},
   "outputs": [
    {
     "data": {
      "text/html": [
       "<div>\n",
       "<style scoped>\n",
       "    .dataframe tbody tr th:only-of-type {\n",
       "        vertical-align: middle;\n",
       "    }\n",
       "\n",
       "    .dataframe tbody tr th {\n",
       "        vertical-align: top;\n",
       "    }\n",
       "\n",
       "    .dataframe thead th {\n",
       "        text-align: right;\n",
       "    }\n",
       "</style>\n",
       "<table border=\"1\" class=\"dataframe\">\n",
       "  <thead>\n",
       "    <tr style=\"text-align: right;\">\n",
       "      <th></th>\n",
       "      <th>type</th>\n",
       "      <th>date</th>\n",
       "      <th>title</th>\n",
       "      <th>speaker</th>\n",
       "      <th>word_count</th>\n",
       "      <th>decision</th>\n",
       "      <th>rate</th>\n",
       "      <th>next_meeting</th>\n",
       "      <th>next_decision</th>\n",
       "      <th>next_rate</th>\n",
       "      <th>text</th>\n",
       "      <th>text_clean</th>\n",
       "    </tr>\n",
       "  </thead>\n",
       "  <tbody>\n",
       "    <tr>\n",
       "      <th>0</th>\n",
       "      <td>statement</td>\n",
       "      <td>1994-02-04</td>\n",
       "      <td>FOMC Statement</td>\n",
       "      <td>Alan Greenspan</td>\n",
       "      <td>99</td>\n",
       "      <td>1</td>\n",
       "      <td>3.25</td>\n",
       "      <td>1994-02-28</td>\n",
       "      <td>0</td>\n",
       "      <td>3.25</td>\n",
       "      <td>Chairman Alan Greenspan announced today that t...</td>\n",
       "      <td>[chairman, alan, greenspan, announced, today, ...</td>\n",
       "    </tr>\n",
       "  </tbody>\n",
       "</table>\n",
       "</div>"
      ],
      "text/plain": [
       "        type       date           title         speaker  word_count decision  \\\n",
       "0  statement 1994-02-04  FOMC Statement  Alan Greenspan          99        1   \n",
       "\n",
       "   rate next_meeting next_decision  next_rate  \\\n",
       "0  3.25   1994-02-28             0       3.25   \n",
       "\n",
       "                                                text  \\\n",
       "0  Chairman Alan Greenspan announced today that t...   \n",
       "\n",
       "                                          text_clean  \n",
       "0  [chairman, alan, greenspan, announced, today, ...  "
      ]
     },
     "execution_count": 20,
     "metadata": {},
     "output_type": "execute_result"
    }
   ],
   "source": [
    "text_filtered['text_clean'] = text_filtered['text'].apply(clean) # clean text\n",
    "\n",
    "text_filtered.head(1)"
   ]
  },
  {
   "cell_type": "code",
   "execution_count": 22,
   "metadata": {},
   "outputs": [
    {
     "data": {
      "text/plain": [
       "0       [chairman, alan, greenspan, announced, today, ...\n",
       "1       [chairman, alan, greenspan, announced, today, ...\n",
       "2       [chairman, alan, greenspan, announced, today, ...\n",
       "3       [taking, discount, action, board, approved, re...\n",
       "4       [taking, discount, rate, action, board, approv...\n",
       "                              ...                        \n",
       "9739    [since, last, met, economy, shown, sustained, ...\n",
       "9740    [federal, reserve, strongly, committed, achiev...\n",
       "9741    [chairman, brown, ranking, member, toomey, mem...\n",
       "9742    [economy, continued, strengthen, rise, delta, ...\n",
       "9743    [chairman, brown, ranking, member, toomey, mem...\n",
       "Name: text_clean, Length: 1042, dtype: object"
      ]
     },
     "execution_count": 22,
     "metadata": {},
     "output_type": "execute_result"
    }
   ],
   "source": [
    "text_filtered.text_clean"
   ]
  },
  {
   "cell_type": "code",
   "execution_count": 27,
   "metadata": {},
   "outputs": [
    {
     "name": "stdout",
     "output_type": "stream",
     "text": [
      "bigram is Phrases<146 vocab, min_count=15, threshold=10.0, max_vocab_size=40000000> \n"
     ]
    }
   ],
   "source": [
    "bi = bigrams(text_filtered.text_clean[0])"
   ]
  },
  {
   "cell_type": "code",
   "execution_count": 30,
   "metadata": {},
   "outputs": [
    {
     "data": {
      "text/plain": [
       "['chairman',\n",
       " 'alan',\n",
       " 'greenspan',\n",
       " 'announced',\n",
       " 'today',\n",
       " 'federal',\n",
       " 'open',\n",
       " 'market',\n",
       " 'committee',\n",
       " 'decided',\n",
       " 'increase',\n",
       " 'slightly',\n",
       " 'degree',\n",
       " 'pressure',\n",
       " 'reserve',\n",
       " 'position',\n",
       " 'action',\n",
       " 'expected',\n",
       " 'associated',\n",
       " 'small',\n",
       " 'increase',\n",
       " 'shortterm',\n",
       " 'money',\n",
       " 'market',\n",
       " 'interest',\n",
       " 'rate',\n",
       " 'decision',\n",
       " 'taken',\n",
       " 'move',\n",
       " 'toward',\n",
       " 'le',\n",
       " 'accommodative',\n",
       " 'stance',\n",
       " 'monetary',\n",
       " 'policy',\n",
       " 'order',\n",
       " 'sustain',\n",
       " 'enhance',\n",
       " 'economic',\n",
       " 'expansion',\n",
       " 'chairman',\n",
       " 'greenspan',\n",
       " 'decided',\n",
       " 'announce',\n",
       " 'action',\n",
       " 'immediately',\n",
       " 'avoid',\n",
       " 'misunderstanding',\n",
       " 'committee',\n",
       " 'purpose',\n",
       " 'given',\n",
       " 'fact',\n",
       " 'first',\n",
       " 'firming',\n",
       " 'reserve',\n",
       " 'market',\n",
       " 'condition',\n",
       " 'committee',\n",
       " 'since',\n",
       " 'early']"
      ]
     },
     "execution_count": 30,
     "metadata": {},
     "output_type": "execute_result"
    }
   ],
   "source": [
    "bi[text_filtered.text_clean[0]]"
   ]
  },
  {
   "cell_type": "markdown",
   "metadata": {},
   "source": [
    "## Split into Bigrams"
   ]
  },
  {
   "cell_type": "code",
   "execution_count": 32,
   "metadata": {},
   "outputs": [
    {
     "name": "stdout",
     "output_type": "stream",
     "text": [
      "bigram is Phrases<608583 vocab, min_count=15, threshold=10.0, max_vocab_size=40000000> \n"
     ]
    }
   ],
   "source": [
    "corpus, id2word, bigram_text = get_corpus(text_filtered.text_clean)"
   ]
  },
  {
   "cell_type": "markdown",
   "metadata": {},
   "source": [
    "## Apply LDA"
   ]
  },
  {
   "cell_type": "markdown",
   "metadata": {},
   "source": [
    "### Choose number of topics"
   ]
  },
  {
   "cell_type": "code",
   "execution_count": 38,
   "metadata": {},
   "outputs": [],
   "source": [
    "model_list, coherence_values = compute_coherence_values(dictionary=id2word, corpus=corpus, texts=bigram_text, start=5, limit=30, step=2)"
   ]
  },
  {
   "cell_type": "code",
   "execution_count": 39,
   "metadata": {},
   "outputs": [
    {
     "data": {
      "image/png": "[encoded data removed]",
      "text/plain": [
       "<Figure size 432x288 with 1 Axes>"
      ]
     },
     "metadata": {
      "needs_background": "light"
     },
     "output_type": "display_data"
    }
   ],
   "source": [
    "# Coherence score plot\n",
    "limit=30; start=5; step=2;\n",
    "x = range(start, limit, step)\n",
    "plt.plot(x, coherence_values)\n",
    "plt.xlabel(\"Num Topics\")\n",
    "plt.ylabel(\"Coherence score\")\n",
    "plt.legend((\"coherence_values\"), loc='best')\n",
    "plt.show()"
   ]
  },
  {
   "cell_type": "markdown",
   "metadata": {},
   "source": [
    "Choose 8 topics -- highest coherence score"
   ]
  },
  {
   "cell_type": "markdown",
   "metadata": {},
   "source": [
    "### Model"
   ]
  },
  {
   "cell_type": "code",
   "execution_count": null,
   "metadata": {},
   "outputs": [],
   "source": [
    "# Number of Topics\n",
    "num_topics = 8\n",
    "# Build LDA model\n",
    "lda_model_8 = gensim.models.LdaMulticore(corpus=corpus,\n",
    "                                        id2word=id2word,\n",
    "                                        num_topics=num_topics, \n",
    "                                        passes=50)"
   ]
  },
  {
   "cell_type": "markdown",
   "metadata": {},
   "source": [
    "### Words in Topics"
   ]
  },
  {
   "cell_type": "code",
   "execution_count": null,
   "metadata": {},
   "outputs": [],
   "source": [
    "#pip install wordcloud"
   ]
  },
  {
   "cell_type": "code",
   "execution_count": null,
   "metadata": {},
   "outputs": [],
   "source": [
    "from wordcloud import WordCloud, STOPWORDS"
   ]
  },
  {
   "cell_type": "code",
   "execution_count": null,
   "metadata": {},
   "outputs": [],
   "source": [
    "from wordcloud import WordCloud, STOPWORDS\n",
    "import matplotlib.colors as mcolors\n",
    "\n",
    "cols = [color for name, color in mcolors.TABLEAU_COLORS.items()]  # more colors: 'mcolors.XKCD_COLORS'\n",
    "\n",
    "cloud = WordCloud(stopwords=STOPWORDS,# changed for STOPWORDS\n",
    "                  background_color='white',\n",
    "                  width=2500,\n",
    "                  height=1800,\n",
    "                  max_words=10,\n",
    "                  colormap='tab10',\n",
    "                  color_func=lambda *args, **kwargs: cols[i],\n",
    "                  prefer_horizontal=1.0)\n",
    "\n",
    "topics = lda_model_8.show_topics(formatted=False)\n",
    "\n",
    "fig, axes = plt.subplots(2, 2, figsize=(10,10), sharex=True, sharey=True)\n",
    "\n",
    "for i, ax in enumerate(axes.flatten()):\n",
    "    fig.add_subplot(ax)\n",
    "    topic_words = dict(topics[i][1])\n",
    "    cloud.generate_from_frequencies(topic_words, max_font_size=300)\n",
    "    plt.gca().imshow(cloud)\n",
    "    plt.gca().set_title('Topic ' + str(i), fontdict=dict(size=16))\n",
    "    plt.gca().axis('off')\n",
    "\n",
    "\n",
    "plt.subplots_adjust(wspace=0, hspace=0)\n",
    "plt.axis('off')\n",
    "plt.margins(x=0, y=0)\n",
    "plt.tight_layout()\n",
    "plt.show()"
   ]
  },
  {
   "cell_type": "markdown",
   "metadata": {},
   "source": [
    "### Keywords for each topic"
   ]
  },
  {
   "cell_type": "code",
   "execution_count": null,
   "metadata": {},
   "outputs": [],
   "source": [
    "# Print the Keyword in the topics\n",
    "pprint(lda_model_8.print_topics())\n",
    "doc_lda = lda_model_8[corpus]"
   ]
  },
  {
   "cell_type": "markdown",
   "metadata": {},
   "source": [
    "## Assess topic coherence"
   ]
  },
  {
   "cell_type": "code",
   "execution_count": 7,
   "metadata": {},
   "outputs": [
    {
     "ename": "NameError",
     "evalue": "name 'lda_model_8' is not defined",
     "output_type": "error",
     "traceback": [
      "\u001b[0;31m---------------------------------------------------------------------------\u001b[0m",
      "\u001b[0;31mNameError\u001b[0m                                 Traceback (most recent call last)",
      "Input \u001b[0;32mIn [7]\u001b[0m, in \u001b[0;36m<module>\u001b[0;34m\u001b[0m\n\u001b[1;32m      1\u001b[0m \u001b[38;5;66;03m# Compute Perplexity\u001b[39;00m\n\u001b[0;32m----> 2\u001b[0m \u001b[38;5;28mprint\u001b[39m(\u001b[38;5;124m'\u001b[39m\u001b[38;5;130;01m\\n\u001b[39;00m\u001b[38;5;124mPerplexity: \u001b[39m\u001b[38;5;124m'\u001b[39m, \u001b[43mlda_model_8\u001b[49m\u001b[38;5;241m.\u001b[39mlog_perplexity(corpus))  \u001b[38;5;66;03m# Measure of how good the model is. Lower is better.\u001b[39;00m\n\u001b[1;32m      4\u001b[0m \u001b[38;5;66;03m# Compute Coherence Score\u001b[39;00m\n\u001b[1;32m      5\u001b[0m \u001b[38;5;28;01mfrom\u001b[39;00m \u001b[38;5;21;01mgensim\u001b[39;00m\u001b[38;5;21;01m.\u001b[39;00m\u001b[38;5;21;01mmodels\u001b[39;00m \u001b[38;5;28;01mimport\u001b[39;00m CoherenceModel\n",
      "\u001b[0;31mNameError\u001b[0m: name 'lda_model_8' is not defined"
     ]
    }
   ],
   "source": [
    "# Compute Perplexity\n",
    "print('\\nPerplexity: ', lda_model_8.log_perplexity(corpus))  # Measure of how good the model is. Lower is better.\n",
    "\n",
    "# Compute Coherence Score\n",
    "from gensim.models import CoherenceModel\n",
    "coherence_model_lda = CoherenceModel(model=lda_model_8, texts=bigram_text, dictionary=id2word, coherence='c_v')\n",
    "coherence_lda = coherence_model_lda.get_coherence()\n",
    "print('\\nCoherence Score: ', coherence_lda) # Want above .5"
   ]
  },
  {
   "cell_type": "code",
   "execution_count": null,
   "metadata": {},
   "outputs": [],
   "source": [
    "# VISUALIZE LDA OUTPUT AS HTML-PAGE\n",
    "import pyLDAvis.gensim_models\n",
    "pyLDAvis.enable_notebook()\n",
    "vis = pyLDAvis.gensim_models.prepare(lda_model_8, corpus, dictionary=lda_model_8.id2word)\n",
    "vis\n",
    "\n",
    "# output results\n",
    "pyLDAvis.save_html(vis, '../img/bigram.lda8-50.html')"
   ]
  },
  {
   "cell_type": "markdown",
   "metadata": {},
   "source": [
    "## Add LDA Topics to dataframe"
   ]
  },
  {
   "cell_type": "code",
   "execution_count": null,
   "metadata": {},
   "outputs": [],
   "source": [
    "# ADD LDA TOPICS TO DATAFRAME\n",
    "# REFERENCE CODE: https://towardsdatascience.com/end-to-end-topic-modeling-in-python-latent-dirichlet-allocation-lda-35ce4ed6b3e0\n",
    "\n",
    "data = text_filtered['text_clean']\n",
    "def format_topics_sentences(ldamodel=lda_model_8, corpus=corpus, texts=data):\n",
    "    # Init output\n",
    "    sent_topics_df = pd.DataFrame()\n",
    "\n",
    "    # Get main topic in each document\n",
    "    for i, row in enumerate(ldamodel[corpus]):\n",
    "        row = sorted(row, key=lambda x: (x[1]), reverse=True)\n",
    "        # Get the Dominant topic, Perc Contribution and Keywords for each document\n",
    "        for j, (topic_num, prop_topic) in enumerate(row):\n",
    "            if j == 0:  # => dominant topic\n",
    "                wp = ldamodel.show_topic(topic_num)\n",
    "                topic_keywords = \", \".join([word for word, prop in wp])\n",
    "                sent_topics_df = sent_topics_df.append(pd.Series([int(topic_num), round(prop_topic,4), topic_keywords]), ignore_index=True)\n",
    "            else:\n",
    "                break\n",
    "    sent_topics_df.columns = ['Dominant_Topic', 'Perc_Contribution', 'Topic_Keywords']\n",
    "\n",
    "    # Add original text to the end of the output\n",
    "    contents = pd.Series(texts)\n",
    "    sent_topics_df = pd.concat([sent_topics_df, contents], axis=1)\n",
    "    return(sent_topics_df)\n",
    "\n",
    "# Run function to create new df\n",
    "df_topic_sents_keywords = format_topics_sentences(ldamodel=lda_model_8, corpus=corpus, texts=bigram_text)\n",
    "\n",
    "# Format\n",
    "df_dominant_topic = df_topic_sents_keywords.reset_index()\n",
    "df_dominant_topic.columns = ['Document_No', 'Dominant_Topic', 'Topic_Perc_Contrib', 'Keywords', 'Text']\n",
    "\n",
    "df_dominant_topic.head()\n"
   ]
  },
  {
   "cell_type": "code",
   "execution_count": null,
   "metadata": {},
   "outputs": [],
   "source": []
  },
  {
   "cell_type": "code",
   "execution_count": 40,
   "metadata": {},
   "outputs": [
    {
     "ename": "NameError",
     "evalue": "name 'lda_model_8' is not defined",
     "output_type": "error",
     "traceback": [
      "\u001b[0;31m---------------------------------------------------------------------------\u001b[0m",
      "\u001b[0;31mNameError\u001b[0m                                 Traceback (most recent call last)",
      "Input \u001b[0;32mIn [40]\u001b[0m, in \u001b[0;36m<module>\u001b[0;34m\u001b[0m\n\u001b[1;32m      1\u001b[0m \u001b[38;5;66;03m# This command prints out the topics in a text and the percent of the text from each topic\u001b[39;00m\n\u001b[1;32m      2\u001b[0m \n\u001b[1;32m      3\u001b[0m \u001b[38;5;66;03m# if you want to make a list for each doc-topic pair\u001b[39;00m\n\u001b[0;32m----> 4\u001b[0m l \u001b[38;5;241m=\u001b[39m [lda_model_8\u001b[38;5;241m.\u001b[39mget_document_topics(item) \u001b[38;5;28;01mfor\u001b[39;00m item \u001b[38;5;129;01min\u001b[39;00m corpus]\n\u001b[1;32m      6\u001b[0m \u001b[38;5;66;03m# Create a list of lists (list of topics inside each doc)\u001b[39;00m\n\u001b[1;32m      7\u001b[0m topic_distribution \u001b[38;5;241m=\u001b[39m \u001b[38;5;28mlist\u001b[39m()\n",
      "Input \u001b[0;32mIn [40]\u001b[0m, in \u001b[0;36m<listcomp>\u001b[0;34m(.0)\u001b[0m\n\u001b[1;32m      1\u001b[0m \u001b[38;5;66;03m# This command prints out the topics in a text and the percent of the text from each topic\u001b[39;00m\n\u001b[1;32m      2\u001b[0m \n\u001b[1;32m      3\u001b[0m \u001b[38;5;66;03m# if you want to make a list for each doc-topic pair\u001b[39;00m\n\u001b[0;32m----> 4\u001b[0m l \u001b[38;5;241m=\u001b[39m [\u001b[43mlda_model_8\u001b[49m\u001b[38;5;241m.\u001b[39mget_document_topics(item) \u001b[38;5;28;01mfor\u001b[39;00m item \u001b[38;5;129;01min\u001b[39;00m corpus]\n\u001b[1;32m      6\u001b[0m \u001b[38;5;66;03m# Create a list of lists (list of topics inside each doc)\u001b[39;00m\n\u001b[1;32m      7\u001b[0m topic_distribution \u001b[38;5;241m=\u001b[39m \u001b[38;5;28mlist\u001b[39m()\n",
      "\u001b[0;31mNameError\u001b[0m: name 'lda_model_8' is not defined"
     ]
    }
   ],
   "source": [
    "# This command prints out the topics in a text and the percent of the text from each topic\n",
    "\n",
    "# if you want to make a list for each doc-topic pair\n",
    "l = [lda_model_8.get_document_topics(item) for item in corpus]\n",
    "\n",
    "# Create a list of lists (list of topics inside each doc)\n",
    "topic_distribution = list()\n",
    "for num in range(len(text_filtered['text_clean'])):\n",
    "    props = [0] * 18  # create empty list\n",
    "    doc = num\n",
    "    for item in lda_model_8[corpus[num]]:\n",
    "        topic = item[0]\n",
    "        props[topic] = item[1]\n",
    "    topic_distribution.append(props)\n",
    "    \n",
    "# Turn list of lists into dataframe\n",
    "topic_dist = pd.DataFrame(topic_distribution)\n"
   ]
  },
  {
   "cell_type": "code",
   "execution_count": null,
   "metadata": {},
   "outputs": [],
   "source": [
    "topic_dist"
   ]
  },
  {
   "cell_type": "code",
   "execution_count": 8,
   "metadata": {},
   "outputs": [
    {
     "ename": "NameError",
     "evalue": "name 'text_filtered' is not defined",
     "output_type": "error",
     "traceback": [
      "\u001b[0;31m---------------------------------------------------------------------------\u001b[0m",
      "\u001b[0;31mNameError\u001b[0m                                 Traceback (most recent call last)",
      "Input \u001b[0;32mIn [8]\u001b[0m, in \u001b[0;36m<module>\u001b[0;34m\u001b[0m\n\u001b[1;32m      1\u001b[0m \u001b[38;5;66;03m# combine topics across transcript, minutes, etc. for each meeting date\u001b[39;00m\n\u001b[0;32m----> 2\u001b[0m final_text \u001b[38;5;241m=\u001b[39m \u001b[43mtext_filtered\u001b[49m\u001b[38;5;241m.\u001b[39mjoin(topic_dist)\n\u001b[1;32m      3\u001b[0m final_text \u001b[38;5;241m=\u001b[39m final_text\u001b[38;5;241m.\u001b[39mgroupby(\u001b[38;5;124m'\u001b[39m\u001b[38;5;124mnext_meeting\u001b[39m\u001b[38;5;124m'\u001b[39m)\u001b[38;5;241m.\u001b[39mmean()\n\u001b[1;32m      5\u001b[0m \u001b[38;5;28mprint\u001b[39m(final_text\u001b[38;5;241m.\u001b[39mshape)\n",
      "\u001b[0;31mNameError\u001b[0m: name 'text_filtered' is not defined"
     ]
    }
   ],
   "source": [
    "# combine topics across transcript, minutes, etc. for each meeting date\n",
    "final_text = text_filtered.join(topic_dist)\n",
    "final_text = final_text.groupby('next_meeting').mean()\n",
    "\n",
    "print(final_text.shape)\n",
    "final_text.head()"
   ]
  },
  {
   "cell_type": "code",
   "execution_count": null,
   "metadata": {},
   "outputs": [],
   "source": [
    "# find na's\n",
    "na_rows = final_text[final_text.isna().any(axis=1)]\n",
    "\n",
    "print(na_rows.shape)\n",
    "display(na_rows)"
   ]
  },
  {
   "cell_type": "code",
   "execution_count": null,
   "metadata": {},
   "outputs": [],
   "source": [
    "final_text = final_text.fillna(0)"
   ]
  },
  {
   "cell_type": "code",
   "execution_count": null,
   "metadata": {},
   "outputs": [],
   "source": [
    "# join LDA and nontext data\n",
    "joined_data = final_text.join(nontext_data)\n",
    "\n",
    "print(joined_data.shape)\n",
    "joined_data.tail()"
   ]
  },
  {
   "cell_type": "markdown",
   "metadata": {},
   "source": [
    "## Modify rate decision"
   ]
  },
  {
   "cell_type": "code",
   "execution_count": null,
   "metadata": {},
   "outputs": [],
   "source": [
    "# change target variable from -1 to 1 to 1 to 3\n",
    "def convert_class(x):\n",
    "    if x == 1:\n",
    "        return 3\n",
    "    elif x == 0:\n",
    "        return 2\n",
    "    elif x == -1:\n",
    "        return 1\n",
    "\n",
    "joined_data['RateDecision'] = joined_data.RateDecision.apply(convert_class)\n",
    "joined_data['next_decision'] = joined_data['RateDecision'].shift(1)\n",
    "\n",
    "# drop NA caused by shifting\n",
    "joined_data = joined_data.dropna(subset = ['next_decision'])"
   ]
  },
  {
   "cell_type": "code",
   "execution_count": 9,
   "metadata": {},
   "outputs": [
    {
     "ename": "NameError",
     "evalue": "name 'joined_data' is not defined",
     "output_type": "error",
     "traceback": [
      "\u001b[0;31m---------------------------------------------------------------------------\u001b[0m",
      "\u001b[0;31mNameError\u001b[0m                                 Traceback (most recent call last)",
      "Input \u001b[0;32mIn [9]\u001b[0m, in \u001b[0;36m<module>\u001b[0;34m\u001b[0m\n\u001b[1;32m      1\u001b[0m plt\u001b[38;5;241m.\u001b[39mfigure(figsize\u001b[38;5;241m=\u001b[39m(\u001b[38;5;241m10\u001b[39m,\u001b[38;5;241m6\u001b[39m))\n\u001b[0;32m----> 2\u001b[0m plt\u001b[38;5;241m.\u001b[39mplot(\u001b[43mjoined_data\u001b[49m\u001b[38;5;241m.\u001b[39mindex, joined_data\u001b[38;5;241m.\u001b[39mnext_decision, \u001b[38;5;124m'\u001b[39m\u001b[38;5;124mo\u001b[39m\u001b[38;5;124m'\u001b[39m, label \u001b[38;5;241m=\u001b[39m \u001b[38;5;124m'\u001b[39m\u001b[38;5;124mNext Decision\u001b[39m\u001b[38;5;124m'\u001b[39m)\n\u001b[1;32m      3\u001b[0m \u001b[38;5;66;03m#plt.plot(joined_data.index, joined_data[0], 'o', label = 'Topic 0')\u001b[39;00m\n\u001b[1;32m      4\u001b[0m \u001b[38;5;66;03m#plt.plot(joined_data.index, joined_data[1], 'o', label = 'Topic 1')\u001b[39;00m\n\u001b[1;32m      5\u001b[0m \u001b[38;5;66;03m#plt.plot(joined_data.index, joined_data[2], 'o', label = 'Topic 2')\u001b[39;00m\n\u001b[1;32m      6\u001b[0m \u001b[38;5;66;03m#plt.plot(joined_data.index, joined_data[3], 'o', label = 'Topic 3')\u001b[39;00m\n\u001b[1;32m      7\u001b[0m \u001b[38;5;66;03m#plt.plot(joined_data.index, joined_data[4], 'o', label = 'Topic 4')\u001b[39;00m\n\u001b[1;32m      8\u001b[0m plt\u001b[38;5;241m.\u001b[39mplot(joined_data\u001b[38;5;241m.\u001b[39mindex, joined_data[\u001b[38;5;241m5\u001b[39m], \u001b[38;5;124m'\u001b[39m\u001b[38;5;124mo\u001b[39m\u001b[38;5;124m'\u001b[39m, label \u001b[38;5;241m=\u001b[39m \u001b[38;5;124m'\u001b[39m\u001b[38;5;124mTopic 5\u001b[39m\u001b[38;5;124m'\u001b[39m)\n",
      "\u001b[0;31mNameError\u001b[0m: name 'joined_data' is not defined"
     ]
    },
    {
     "data": {
      "text/plain": [
       "<Figure size 720x432 with 0 Axes>"
      ]
     },
     "metadata": {},
     "output_type": "display_data"
    }
   ],
   "source": [
    "plt.figure(figsize=(10,6))\n",
    "plt.plot(joined_data.index, joined_data.next_decision, 'o', label = 'Next Decision')\n",
    "#plt.plot(joined_data.index, joined_data[0], 'o', label = 'Topic 0')\n",
    "#plt.plot(joined_data.index, joined_data[1], 'o', label = 'Topic 1')\n",
    "#plt.plot(joined_data.index, joined_data[2], 'o', label = 'Topic 2')\n",
    "#plt.plot(joined_data.index, joined_data[3], 'o', label = 'Topic 3')\n",
    "#plt.plot(joined_data.index, joined_data[4], 'o', label = 'Topic 4')\n",
    "plt.plot(joined_data.index, joined_data[5], 'o', label = 'Topic 5')\n",
    "#plt.plot(joined_data.index, joined_data[6], 'o', label = 'Topic 6')\n",
    "#plt.plot(joined_data.index, joined_data[7], 'o', label = 'Topic 7')\n",
    "plt.legend();"
   ]
  },
  {
   "cell_type": "markdown",
   "metadata": {},
   "source": [
    "## Write data"
   ]
  },
  {
   "cell_type": "code",
   "execution_count": null,
   "metadata": {},
   "outputs": [],
   "source": [
    "def save_data(df, file_name, dir_name='../data/'):\n",
    "    if not os.path.exists(dir_name):\n",
    "        os.mkdir(dir_name)\n",
    "        \n",
    "    # Save results to a picke file\n",
    "    file = open(dir_name + file_name + '.pickle', 'wb')\n",
    "    pickle.dump(df, file)\n",
    "    file.close()\n",
    "\n",
    "    # Save results to a csv file\n",
    "    df.to_csv(dir_name + file_name + '.csv', index=True)"
   ]
  },
  {
   "cell_type": "code",
   "execution_count": null,
   "metadata": {},
   "outputs": [],
   "source": [
    "# Final Text Data\n",
    "save_data(final_text, 'text_w_lda')\n",
    "\n",
    "# Final joined data\n",
    "save_data(joined_data, 'final_fed_data')"
   ]
  }
 ],
 "metadata": {
  "kernelspec": {
   "display_name": "Python 3 (ipykernel)",
   "language": "python",
   "name": "python3"
  },
  "language_info": {
   "codemirror_mode": {
    "name": "ipython",
    "version": 3
   },
   "file_extension": ".py",
   "mimetype": "text/x-python",
   "name": "python",
   "nbconvert_exporter": "python",
   "pygments_lexer": "ipython3",
   "version": "3.9.7"
  }
 },
 "nbformat": 4,
 "nbformat_minor": 4
}
