{
 "cells": [
  {
   "cell_type": "code",
   "execution_count": 1,
   "metadata": {},
   "outputs": [],
   "source": [
    "import pandas as pd\n",
    "import numpy as np\n",
    "import matplotlib.pyplot as plt\n",
    "import pickle\n",
    "import datetime\n",
    "\n",
    "import random \n",
    "from sklearn.model_selection import train_test_split, GridSearchCV, cross_val_score, cross_validate, StratifiedKFold, learning_curve, RandomizedSearchCV, RepeatedStratifiedKFold\n",
    "from sklearn.metrics import accuracy_score, classification_report, f1_score, plot_confusion_matrix, roc_auc_score, roc_curve, auc, plot_roc_curve\n",
    "from sklearn.ensemble import RandomForestClassifier\n",
    "from sklearn.preprocessing import LabelEncoder\n",
    "\n",
    "from collections import Counter\n"
   ]
  },
  {
   "cell_type": "code",
   "execution_count": 2,
   "metadata": {},
   "outputs": [
    {
     "name": "stdout",
     "output_type": "stream",
     "text": [
      "(242, 78)\n"
     ]
    },
    {
     "data": {
      "text/html": [
       "<div>\n",
       "<style scoped>\n",
       "    .dataframe tbody tr th:only-of-type {\n",
       "        vertical-align: middle;\n",
       "    }\n",
       "\n",
       "    .dataframe tbody tr th {\n",
       "        vertical-align: top;\n",
       "    }\n",
       "\n",
       "    .dataframe thead th {\n",
       "        text-align: right;\n",
       "    }\n",
       "</style>\n",
       "<table border=\"1\" class=\"dataframe\">\n",
       "  <thead>\n",
       "    <tr style=\"text-align: right;\">\n",
       "      <th></th>\n",
       "      <th>word_count</th>\n",
       "      <th>next_rate</th>\n",
       "      <th>0</th>\n",
       "      <th>1</th>\n",
       "      <th>2</th>\n",
       "      <th>3</th>\n",
       "      <th>4</th>\n",
       "      <th>5</th>\n",
       "      <th>6</th>\n",
       "      <th>7</th>\n",
       "      <th>...</th>\n",
       "      <th>Taylor</th>\n",
       "      <th>Balanced</th>\n",
       "      <th>Inertia</th>\n",
       "      <th>Taylor-Rate</th>\n",
       "      <th>Balanced-Rate</th>\n",
       "      <th>Inertia-Rate</th>\n",
       "      <th>Taylor_diff</th>\n",
       "      <th>Balanced_diff</th>\n",
       "      <th>Inertia_diff</th>\n",
       "      <th>next_decision</th>\n",
       "    </tr>\n",
       "    <tr>\n",
       "      <th>next_meeting</th>\n",
       "      <th></th>\n",
       "      <th></th>\n",
       "      <th></th>\n",
       "      <th></th>\n",
       "      <th></th>\n",
       "      <th></th>\n",
       "      <th></th>\n",
       "      <th></th>\n",
       "      <th></th>\n",
       "      <th></th>\n",
       "      <th></th>\n",
       "      <th></th>\n",
       "      <th></th>\n",
       "      <th></th>\n",
       "      <th></th>\n",
       "      <th></th>\n",
       "      <th></th>\n",
       "      <th></th>\n",
       "      <th></th>\n",
       "      <th></th>\n",
       "      <th></th>\n",
       "    </tr>\n",
       "  </thead>\n",
       "  <tbody>\n",
       "    <tr>\n",
       "      <th>2021-06-16</th>\n",
       "      <td>2939.000000</td>\n",
       "      <td>0.0</td>\n",
       "      <td>0.960124</td>\n",
       "      <td>0.028961</td>\n",
       "      <td>0.00000</td>\n",
       "      <td>0.0</td>\n",
       "      <td>0.000000</td>\n",
       "      <td>0.005220</td>\n",
       "      <td>0.0</td>\n",
       "      <td>0.0</td>\n",
       "      <td>...</td>\n",
       "      <td>4.209310</td>\n",
       "      <td>2.794548</td>\n",
       "      <td>-0.419182</td>\n",
       "      <td>4.209310</td>\n",
       "      <td>2.794548</td>\n",
       "      <td>-0.419182</td>\n",
       "      <td>2.922618</td>\n",
       "      <td>2.794548</td>\n",
       "      <td>-0.419182</td>\n",
       "      <td>2.0</td>\n",
       "    </tr>\n",
       "    <tr>\n",
       "      <th>2021-07-28</th>\n",
       "      <td>2716.500000</td>\n",
       "      <td>0.0</td>\n",
       "      <td>0.965266</td>\n",
       "      <td>0.025540</td>\n",
       "      <td>0.00000</td>\n",
       "      <td>0.0</td>\n",
       "      <td>0.000000</td>\n",
       "      <td>0.000000</td>\n",
       "      <td>0.0</td>\n",
       "      <td>0.0</td>\n",
       "      <td>...</td>\n",
       "      <td>4.771125</td>\n",
       "      <td>3.356363</td>\n",
       "      <td>-0.503454</td>\n",
       "      <td>4.771125</td>\n",
       "      <td>3.356363</td>\n",
       "      <td>-0.503454</td>\n",
       "      <td>0.561815</td>\n",
       "      <td>0.561815</td>\n",
       "      <td>-0.084272</td>\n",
       "      <td>2.0</td>\n",
       "    </tr>\n",
       "    <tr>\n",
       "      <th>2021-09-22</th>\n",
       "      <td>3146.000000</td>\n",
       "      <td>0.0</td>\n",
       "      <td>0.977887</td>\n",
       "      <td>0.000000</td>\n",
       "      <td>0.00000</td>\n",
       "      <td>0.0</td>\n",
       "      <td>0.000000</td>\n",
       "      <td>0.012653</td>\n",
       "      <td>0.0</td>\n",
       "      <td>0.0</td>\n",
       "      <td>...</td>\n",
       "      <td>5.563014</td>\n",
       "      <td>4.720695</td>\n",
       "      <td>-0.708104</td>\n",
       "      <td>5.563014</td>\n",
       "      <td>4.720695</td>\n",
       "      <td>-0.708104</td>\n",
       "      <td>0.791889</td>\n",
       "      <td>1.364332</td>\n",
       "      <td>-0.204650</td>\n",
       "      <td>2.0</td>\n",
       "    </tr>\n",
       "    <tr>\n",
       "      <th>2021-11-03</th>\n",
       "      <td>2272.750000</td>\n",
       "      <td>0.0</td>\n",
       "      <td>0.977192</td>\n",
       "      <td>0.000000</td>\n",
       "      <td>0.00666</td>\n",
       "      <td>0.0</td>\n",
       "      <td>0.007253</td>\n",
       "      <td>0.000000</td>\n",
       "      <td>0.0</td>\n",
       "      <td>0.0</td>\n",
       "      <td>...</td>\n",
       "      <td>5.747177</td>\n",
       "      <td>4.940210</td>\n",
       "      <td>-0.741032</td>\n",
       "      <td>5.747177</td>\n",
       "      <td>4.940210</td>\n",
       "      <td>-0.741032</td>\n",
       "      <td>0.184163</td>\n",
       "      <td>0.219515</td>\n",
       "      <td>-0.032927</td>\n",
       "      <td>2.0</td>\n",
       "    </tr>\n",
       "    <tr>\n",
       "      <th>2021-12-15</th>\n",
       "      <td>1592.833333</td>\n",
       "      <td>0.0</td>\n",
       "      <td>0.976769</td>\n",
       "      <td>0.006543</td>\n",
       "      <td>0.00000</td>\n",
       "      <td>0.0</td>\n",
       "      <td>0.000000</td>\n",
       "      <td>0.012312</td>\n",
       "      <td>0.0</td>\n",
       "      <td>0.0</td>\n",
       "      <td>...</td>\n",
       "      <td>6.480214</td>\n",
       "      <td>5.673248</td>\n",
       "      <td>-0.850987</td>\n",
       "      <td>6.480214</td>\n",
       "      <td>5.673248</td>\n",
       "      <td>-0.850987</td>\n",
       "      <td>0.733037</td>\n",
       "      <td>0.733037</td>\n",
       "      <td>-0.109956</td>\n",
       "      <td>2.0</td>\n",
       "    </tr>\n",
       "  </tbody>\n",
       "</table>\n",
       "<p>5 rows × 78 columns</p>\n",
       "</div>"
      ],
      "text/plain": [
       "               word_count  next_rate         0         1        2    3  \\\n",
       "next_meeting                                                             \n",
       "2021-06-16    2939.000000        0.0  0.960124  0.028961  0.00000  0.0   \n",
       "2021-07-28    2716.500000        0.0  0.965266  0.025540  0.00000  0.0   \n",
       "2021-09-22    3146.000000        0.0  0.977887  0.000000  0.00000  0.0   \n",
       "2021-11-03    2272.750000        0.0  0.977192  0.000000  0.00666  0.0   \n",
       "2021-12-15    1592.833333        0.0  0.976769  0.006543  0.00000  0.0   \n",
       "\n",
       "                     4         5    6    7  ...    Taylor  Balanced   Inertia  \\\n",
       "next_meeting                                ...                                 \n",
       "2021-06-16    0.000000  0.005220  0.0  0.0  ...  4.209310  2.794548 -0.419182   \n",
       "2021-07-28    0.000000  0.000000  0.0  0.0  ...  4.771125  3.356363 -0.503454   \n",
       "2021-09-22    0.000000  0.012653  0.0  0.0  ...  5.563014  4.720695 -0.708104   \n",
       "2021-11-03    0.007253  0.000000  0.0  0.0  ...  5.747177  4.940210 -0.741032   \n",
       "2021-12-15    0.000000  0.012312  0.0  0.0  ...  6.480214  5.673248 -0.850987   \n",
       "\n",
       "              Taylor-Rate  Balanced-Rate  Inertia-Rate  Taylor_diff  \\\n",
       "next_meeting                                                          \n",
       "2021-06-16       4.209310       2.794548     -0.419182     2.922618   \n",
       "2021-07-28       4.771125       3.356363     -0.503454     0.561815   \n",
       "2021-09-22       5.563014       4.720695     -0.708104     0.791889   \n",
       "2021-11-03       5.747177       4.940210     -0.741032     0.184163   \n",
       "2021-12-15       6.480214       5.673248     -0.850987     0.733037   \n",
       "\n",
       "              Balanced_diff  Inertia_diff  next_decision  \n",
       "next_meeting                                              \n",
       "2021-06-16         2.794548     -0.419182            2.0  \n",
       "2021-07-28         0.561815     -0.084272            2.0  \n",
       "2021-09-22         1.364332     -0.204650            2.0  \n",
       "2021-11-03         0.219515     -0.032927            2.0  \n",
       "2021-12-15         0.733037     -0.109956            2.0  \n",
       "\n",
       "[5 rows x 78 columns]"
      ]
     },
     "execution_count": 2,
     "metadata": {},
     "output_type": "execute_result"
    }
   ],
   "source": [
    "# Load data\n",
    "file = open('../data/final_fed_data.pickle', 'rb')\n",
    "data = pd.read_pickle(file)\n",
    "file.close()\n",
    "\n",
    "print(data.shape)\n",
    "data.tail()"
   ]
  },
  {
   "cell_type": "code",
   "execution_count": 3,
   "metadata": {},
   "outputs": [
    {
     "data": {
      "text/plain": [
       "Index([      'word_count',        'next_rate',                  0,\n",
       "                        1,                  2,                  3,\n",
       "                        4,                  5,                  6,\n",
       "                        7,                  8,                  9,\n",
       "                       10,                 11,                 12,\n",
       "                       13,                 14,                 15,\n",
       "                       16,                 17,      'unscheduled',\n",
       "               'forecast',         'confcall',             'Rate',\n",
       "               'RateDiff',     'RateDecision',      'ChairPerson',\n",
       "            'RateChanged',         'GDP_date',        'GDP_value',\n",
       "          'GDP_diff_prev',    'GDP_diff_year',      'GDPPOT_date',\n",
       "           'GDPPOT_value', 'GDPPOT_diff_prev', 'GDPPOT_diff_year',\n",
       "               'PCE_date',        'PCE_value',    'PCE_diff_prev',\n",
       "          'PCE_diff_year',         'CPI_date',        'CPI_value',\n",
       "          'CPI_diff_prev',    'CPI_diff_year',       'Unemp_date',\n",
       "            'Unemp_value',  'Unemp_diff_prev',  'Unemp_diff_year',\n",
       "            'Employ_date',     'Employ_value', 'Employ_diff_prev',\n",
       "       'Employ_diff_year',         'PMI_date',        'PMI_value',\n",
       "          'PMI_diff_prev',    'PMI_diff_year',         'NMI_date',\n",
       "              'NMI_value',    'NMI_diff_prev',    'NMI_diff_year',\n",
       "            'Rsales_date',     'Rsales_value', 'Rsales_diff_prev',\n",
       "       'Rsales_diff_year',      'Hsales_date',     'Hsales_value',\n",
       "       'Hsales_diff_prev', 'Hsales_diff_year',           'Taylor',\n",
       "               'Balanced',          'Inertia',      'Taylor-Rate',\n",
       "          'Balanced-Rate',     'Inertia-Rate',      'Taylor_diff',\n",
       "          'Balanced_diff',     'Inertia_diff',    'next_decision'],\n",
       "      dtype='object')"
      ]
     },
     "execution_count": 3,
     "metadata": {},
     "output_type": "execute_result"
    }
   ],
   "source": [
    "data.columns"
   ]
  },
  {
   "cell_type": "code",
   "execution_count": 4,
   "metadata": {},
   "outputs": [
    {
     "name": "stdout",
     "output_type": "stream",
     "text": [
      "(396, 8)\n"
     ]
    },
    {
     "data": {
      "text/html": [
       "<div>\n",
       "<style scoped>\n",
       "    .dataframe tbody tr th:only-of-type {\n",
       "        vertical-align: middle;\n",
       "    }\n",
       "\n",
       "    .dataframe tbody tr th {\n",
       "        vertical-align: top;\n",
       "    }\n",
       "\n",
       "    .dataframe thead th {\n",
       "        text-align: right;\n",
       "    }\n",
       "</style>\n",
       "<table border=\"1\" class=\"dataframe\">\n",
       "  <thead>\n",
       "    <tr style=\"text-align: right;\">\n",
       "      <th></th>\n",
       "      <th>unscheduled</th>\n",
       "      <th>forecast</th>\n",
       "      <th>confcall</th>\n",
       "      <th>Rate</th>\n",
       "      <th>RateDiff</th>\n",
       "      <th>RateDecision</th>\n",
       "      <th>ChairPerson</th>\n",
       "      <th>RateChanged</th>\n",
       "    </tr>\n",
       "    <tr>\n",
       "      <th>date</th>\n",
       "      <th></th>\n",
       "      <th></th>\n",
       "      <th></th>\n",
       "      <th></th>\n",
       "      <th></th>\n",
       "      <th></th>\n",
       "      <th></th>\n",
       "      <th></th>\n",
       "    </tr>\n",
       "  </thead>\n",
       "  <tbody>\n",
       "    <tr>\n",
       "      <th>2021-06-16</th>\n",
       "      <td>False</td>\n",
       "      <td>True</td>\n",
       "      <td>False</td>\n",
       "      <td>0.0</td>\n",
       "      <td>0.0</td>\n",
       "      <td>0</td>\n",
       "      <td>NaN</td>\n",
       "      <td>0</td>\n",
       "    </tr>\n",
       "    <tr>\n",
       "      <th>2021-07-28</th>\n",
       "      <td>False</td>\n",
       "      <td>False</td>\n",
       "      <td>False</td>\n",
       "      <td>0.0</td>\n",
       "      <td>0.0</td>\n",
       "      <td>0</td>\n",
       "      <td>NaN</td>\n",
       "      <td>0</td>\n",
       "    </tr>\n",
       "    <tr>\n",
       "      <th>2021-09-22</th>\n",
       "      <td>False</td>\n",
       "      <td>True</td>\n",
       "      <td>False</td>\n",
       "      <td>0.0</td>\n",
       "      <td>0.0</td>\n",
       "      <td>0</td>\n",
       "      <td>NaN</td>\n",
       "      <td>0</td>\n",
       "    </tr>\n",
       "    <tr>\n",
       "      <th>2021-11-03</th>\n",
       "      <td>False</td>\n",
       "      <td>False</td>\n",
       "      <td>False</td>\n",
       "      <td>0.0</td>\n",
       "      <td>0.0</td>\n",
       "      <td>0</td>\n",
       "      <td>NaN</td>\n",
       "      <td>0</td>\n",
       "    </tr>\n",
       "    <tr>\n",
       "      <th>2021-12-15</th>\n",
       "      <td>False</td>\n",
       "      <td>True</td>\n",
       "      <td>False</td>\n",
       "      <td>0.0</td>\n",
       "      <td>0.0</td>\n",
       "      <td>0</td>\n",
       "      <td>NaN</td>\n",
       "      <td>0</td>\n",
       "    </tr>\n",
       "  </tbody>\n",
       "</table>\n",
       "</div>"
      ],
      "text/plain": [
       "            unscheduled  forecast  confcall  Rate  RateDiff  RateDecision  \\\n",
       "date                                                                        \n",
       "2021-06-16        False      True     False   0.0       0.0             0   \n",
       "2021-07-28        False     False     False   0.0       0.0             0   \n",
       "2021-09-22        False      True     False   0.0       0.0             0   \n",
       "2021-11-03        False     False     False   0.0       0.0             0   \n",
       "2021-12-15        False      True     False   0.0       0.0             0   \n",
       "\n",
       "           ChairPerson  RateChanged  \n",
       "date                                 \n",
       "2021-06-16         NaN            0  \n",
       "2021-07-28         NaN            0  \n",
       "2021-09-22         NaN            0  \n",
       "2021-11-03         NaN            0  \n",
       "2021-12-15         NaN            0  "
      ]
     },
     "execution_count": 4,
     "metadata": {},
     "output_type": "execute_result"
    }
   ],
   "source": [
    "# fed calendar\n",
    "file = open('../data/preprocessed/fomc_calendar.pickle', 'rb')\n",
    "fomc_cal = pd.read_pickle(file)\n",
    "file.close()\n",
    "\n",
    "print(fomc_cal.shape)\n",
    "fomc_cal.tail()"
   ]
  },
  {
   "cell_type": "code",
   "execution_count": 5,
   "metadata": {},
   "outputs": [
    {
     "data": {
      "text/plain": [
       "(242, 78)"
      ]
     },
     "execution_count": 5,
     "metadata": {},
     "output_type": "execute_result"
    }
   ],
   "source": [
    "data.shape"
   ]
  },
  {
   "cell_type": "code",
   "execution_count": 6,
   "metadata": {},
   "outputs": [
    {
     "name": "stdout",
     "output_type": "stream",
     "text": [
      "Shape of data is (242, 78)\n",
      "Shape of data with feature columns is (242, 44)\n",
      "Shape of final data is  (242, 44)\n"
     ]
    }
   ],
   "source": [
    "# model features\n",
    "feature_columns = ['GDP_diff_prev', 'GDP_diff_year', 'GDPPOT_diff_prev', 'GDPPOT_diff_year',\n",
    "                  'PCE_diff_prev', 'PCE_diff_year', 'CPI_diff_prev', 'CPI_diff_year', \n",
    "                  'Unemp_value', 'Unemp_diff_prev', 'Unemp_diff_year',\n",
    "                  'Employ_value', 'Employ_diff_prev', 'Employ_diff_year',\n",
    "                  'PMI_value', 'PMI_diff_prev', 'PMI_diff_year', \n",
    "                  'Rsales_diff_prev', 'Hsales_diff_prev', 'Hsales_diff_year',\n",
    "                  'Taylor-Rate', 'Balanced-Rate', 'Inertia-Rate', 'Taylor_diff', 'Balanced_diff', 'Inertia_diff',\n",
    "                  0, 1, 2, 3, 4, 5, 6, 7, 8, 9, 10, 11, 12, 13, 14, 15, 16, 17\n",
    "                  ]\n",
    "\n",
    "X = data.dropna(subset = ['next_decision'])\n",
    "print(f\"Shape of data is {X.shape}\")\n",
    "X = X[feature_columns]\n",
    "print(f\"Shape of data with feature columns is {X.shape}\")\n",
    "X = X.dropna(axis='columns')\n",
    "print(f\"Shape of final data is  {X.shape}\")"
   ]
  },
  {
   "cell_type": "code",
   "execution_count": 7,
   "metadata": {},
   "outputs": [],
   "source": [
    "feature_list = list(X.columns)\n",
    "\n",
    "X = np.array(X)\n",
    "y = np.array(data['next_decision']) # target variable "
   ]
  },
  {
   "cell_type": "code",
   "execution_count": 8,
   "metadata": {},
   "outputs": [
    {
     "data": {
      "text/plain": [
       "(242, 44)"
      ]
     },
     "execution_count": 8,
     "metadata": {},
     "output_type": "execute_result"
    }
   ],
   "source": [
    "X.shape"
   ]
  },
  {
   "cell_type": "code",
   "execution_count": 9,
   "metadata": {},
   "outputs": [
    {
     "data": {
      "text/plain": [
       "(242,)"
      ]
     },
     "execution_count": 9,
     "metadata": {},
     "output_type": "execute_result"
    }
   ],
   "source": [
    "y.shape"
   ]
  },
  {
   "cell_type": "code",
   "execution_count": 10,
   "metadata": {},
   "outputs": [],
   "source": [
    "# Set Random Seed\n",
    "random.seed(42)\n",
    "np.random.seed(42)\n",
    "rand_seed = 42\n",
    "\n",
    "x_train, x_test, y_train, y_test = train_test_split(X, y, test_size= 0.2, random_state = rand_seed, shuffle = False)"
   ]
  },
  {
   "cell_type": "code",
   "execution_count": 11,
   "metadata": {},
   "outputs": [
    {
     "data": {
      "text/plain": [
       "(193, 44)"
      ]
     },
     "execution_count": 11,
     "metadata": {},
     "output_type": "execute_result"
    }
   ],
   "source": [
    "x_train.shape"
   ]
  },
  {
   "cell_type": "code",
   "execution_count": 12,
   "metadata": {},
   "outputs": [
    {
     "data": {
      "text/plain": [
       "(49, 44)"
      ]
     },
     "execution_count": 12,
     "metadata": {},
     "output_type": "execute_result"
    }
   ],
   "source": [
    "x_test.shape"
   ]
  },
  {
   "cell_type": "code",
   "execution_count": 13,
   "metadata": {},
   "outputs": [
    {
     "name": "stdout",
     "output_type": "stream",
     "text": [
      "Class=2, n=131 (67.876%)\n",
      "Class=3, n=30 (15.544%)\n",
      "Class=1, n=32 (16.580%)\n"
     ]
    },
    {
     "data": {
      "image/png": "[encoded data removed]",
      "text/plain": [
       "<Figure size 432x288 with 1 Axes>"
      ]
     },
     "metadata": {
      "needs_background": "light"
     },
     "output_type": "display_data"
    }
   ],
   "source": [
    "# summarize distribution\n",
    "counter = Counter(y_train)\n",
    "for k,v in counter.items():\n",
    "    per = v / len(y_train) * 100\n",
    "    print('Class=%d, n=%d (%.3f%%)' % (k, v, per))\n",
    "    \n",
    "# plot the distribution\n",
    "plt.bar(counter.keys(), counter.values())\n",
    "plt.show()"
   ]
  },
  {
   "cell_type": "code",
   "execution_count": 14,
   "metadata": {},
   "outputs": [],
   "source": [
    "from imblearn.over_sampling import SMOTE\n",
    "\n",
    "oversample = SMOTE()"
   ]
  },
  {
   "cell_type": "code",
   "execution_count": 15,
   "metadata": {},
   "outputs": [
    {
     "name": "stdout",
     "output_type": "stream",
     "text": [
      "Class=2, n=131 (33.333%)\n",
      "Class=3, n=131 (33.333%)\n",
      "Class=1, n=131 (33.333%)\n"
     ]
    },
    {
     "data": {
      "image/png": "[encoded data removed]",
      "text/plain": [
       "<Figure size 432x288 with 1 Axes>"
      ]
     },
     "metadata": {
      "needs_background": "light"
     },
     "output_type": "display_data"
    }
   ],
   "source": [
    "# oversample using SMOTE\n",
    "# reference: https://machinelearningmastery.com/multi-class-imbalanced-classification/\n",
    "from imblearn.over_sampling import SMOTE\n",
    "\n",
    "oversample = SMOTE()\n",
    "x_train, y_train = oversample.fit_resample(x_train, y_train)\n",
    "# summarize distribution\n",
    "counter = Counter(y_train)\n",
    "for k,v in counter.items():\n",
    "    per = v / len(y_train) * 100\n",
    "    print('Class=%d, n=%d (%.3f%%)' % (k, v, per))\n",
    "    \n",
    "# plot the distribution\n",
    "plt.bar(counter.keys(), counter.values())\n",
    "plt.show()"
   ]
  },
  {
   "cell_type": "code",
   "execution_count": 16,
   "metadata": {},
   "outputs": [],
   "source": [
    "#pip install imblearn"
   ]
  },
  {
   "cell_type": "code",
   "execution_count": 17,
   "metadata": {},
   "outputs": [],
   "source": [
    "import time\n",
    "import logging\n",
    "\n",
    "# Set logger\n",
    "logger = logging.getLogger('mylogger')\n",
    "logger.setLevel(logging.DEBUG)\n",
    "timestamp = time.strftime(\"%Y.%m.%d_%H.%M.%S\", time.localtime())\n",
    "fh = logging.FileHandler('log_model.txt')\n",
    "fh.setLevel(logging.DEBUG)\n",
    "ch = logging.StreamHandler()\n",
    "ch.setLevel(logging.DEBUG)\n",
    "formatter = logging.Formatter('[%(asctime)s][%(levelname)s] ## %(message)s')\n",
    "fh.setFormatter(formatter)\n",
    "ch.setFormatter(formatter)\n",
    "logger.addHandler(fh)\n",
    "logger.addHandler(ch)\n",
    "\n",
    "# Use Stratified KFold Cross Validation\n",
    "n_fold = 7\n",
    "kfold = StratifiedKFold(n_splits=n_fold)\n",
    "kfold\n",
    "# Define metrics\n",
    "# Here, use F1 Macro to evaluate the model.\n",
    "def metric(y_true, y_pred):\n",
    "    acc = accuracy_score(y_true, y_pred)\n",
    "    f1 = f1_score(y_true, y_pred, average='macro')\n",
    "    return acc, f1\n",
    "\n",
    "scoring = {'Accuracy': 'accuracy', 'F1': 'f1_macro'}\n",
    "refit = 'F1'\n",
    "\n",
    "def train_grid_search(estimator, param_grid, scoring, refit, cv=5, verbose=1, plot=True):\n",
    "    model = GridSearchCV(estimator, param_grid=param_grid, cv=cv, scoring=scoring, verbose=verbose, \n",
    "                         refit=refit, n_jobs=-1, return_train_score=True)\n",
    "    model.fit(x_train, y_train)\n",
    "    \n",
    "    results = model.cv_results_\n",
    "    best_estimator = model.best_estimator_\n",
    "    train_scores = results['mean_train_' + refit]\n",
    "    test_scores = results['mean_test_' + refit]\n",
    "    train_time = results['mean_fit_time']\n",
    "    \n",
    "    print(\"Best Score: \", model.best_score_)\n",
    "    print(\"Best Param: \", model.best_params_)\n",
    "    \n",
    "    pred_train = best_estimator.predict(x_train)\n",
    "    pred_test = best_estimator.predict(x_test)\n",
    "\n",
    "    acc, f1 = metric(y_train, pred_train)\n",
    "    logger.info('Training - acc: %.8f, f1: %.8f' % (acc, f1))\n",
    "    acc, f1 = metric(y_test, pred_test)\n",
    "    logger.info('Test - acc: %.8f, f1: %.8f' % (acc, f1))\n",
    "        \n",
    "    if plot:\n",
    "        fig, (ax1, ax2, ax3) = plt.subplots(1, 3, figsize=(15, 5))\n",
    "        fig.suptitle(\"GridSearchCV Result\", fontsize=20)\n",
    "        \n",
    "        ### First plot ###\n",
    "        ax1.plot(train_scores, test_scores, 'bo')\n",
    "        ax1.set_title(\"Train Score v.s. Test Score\", fontsize=16)\n",
    "        ax1.set_xlabel(\"Train Score\")\n",
    "        ax1.set_ylabel(\"Test Score\")\n",
    "        ax1.set_xlim(0, 1)\n",
    "        ax1.set_ylim(0, 1)\n",
    "        ax1.grid(True)\n",
    "        \n",
    "        ### Second plot ###\n",
    "        x_param = list(param_grid.keys())[0]\n",
    "        x_param_min = np.min(list(param_grid.values())[0])\n",
    "        x_param_max = np.max(list(param_grid.values())[0])\n",
    "\n",
    "        ax2.set_title(\"Score over the first param\", fontsize=16)\n",
    "        ax2.set_xlabel(x_param)\n",
    "        ax2.set_ylabel(\"Score\")\n",
    "        ax2.set_xlim(x_param_min, x_param_max)\n",
    "        ax2.set_ylim(0, 1)\n",
    "\n",
    "        # Get the regular numpy array from the MaskedArray\n",
    "        X_axis = np.array(results['param_' + x_param].data, dtype=float)\n",
    "\n",
    "        for scorer, color in zip(sorted(scoring), ['r', 'g']):\n",
    "            for sample, style in (('train', '--'), ('test', '-')):\n",
    "                sample_score_mean = results['mean_%s_%s' % (sample, scorer)]\n",
    "                sample_score_std = results['std_%s_%s' % (sample, scorer)]\n",
    "                ax2.fill_between(X_axis, sample_score_mean - sample_score_std,\n",
    "                                sample_score_mean + sample_score_std,\n",
    "                                alpha=0.1 if sample == 'test' else 0, color=color)\n",
    "                ax2.plot(X_axis, sample_score_mean, style, color=color,\n",
    "                        alpha=1 if sample == 'test' else 0.7,\n",
    "                        label=\"%s (%s)\" % (scorer, sample.capitalize()))\n",
    "\n",
    "            best_index = np.nonzero(results['rank_test_%s' % scorer] == 1)[0][0]\n",
    "            best_score = results['mean_test_%s' % scorer][best_index]\n",
    "\n",
    "            # Plot a dotted vertical line at the best score for that scorer marked by x\n",
    "            ax2.plot([X_axis[best_index], ] * 2, [0, best_score],\n",
    "                    linestyle='-.', color=color, marker='x', markeredgewidth=3, ms=8)\n",
    "\n",
    "            # Annotate the best score for that scorer\n",
    "            ax2.annotate(\"%0.2f\" % best_score,\n",
    "                        (X_axis[best_index], best_score + 0.005))\n",
    "\n",
    "        ax2.legend(loc=\"best\")\n",
    "        ax2.grid(False)\n",
    "        \n",
    "        ### Third plot (Learning Curve) ###\n",
    "        # Calculate learning curve (Accuracy)\n",
    "        lc_acc_train_sizes, lc_acc_train_scores, lc_acc_test_scores = learning_curve(\n",
    "            best_estimator, x_train, y_train, cv=kfold, n_jobs=-1, scoring=scoring['Accuracy'], \n",
    "            train_sizes=np.linspace(.1, 1.0, 5))\n",
    "        lc_acc_train_mean = np.mean(lc_acc_train_scores, axis=1)\n",
    "        lc_acc_train_std = np.std(lc_acc_train_scores, axis=1)\n",
    "        lc_acc_test_mean = np.mean(lc_acc_test_scores, axis=1)\n",
    "        lc_acc_test_std = np.std(lc_acc_test_scores, axis=1)\n",
    "        \n",
    "        # Calculate learning curve (F1 Score)\n",
    "        lc_f1_train_sizes, lc_f1_train_scores, lc_f1_test_scores = learning_curve(\n",
    "            best_estimator, x_train, y_train, cv=kfold, n_jobs=-1, scoring=scoring['F1'], \n",
    "            train_sizes=np.linspace(.1, 1.0, 5))\n",
    "        lc_f1_train_mean = np.mean(lc_f1_train_scores, axis=1)\n",
    "        lc_f1_train_std = np.std(lc_f1_train_scores, axis=1)\n",
    "        lc_f1_test_mean = np.mean(lc_f1_test_scores, axis=1)\n",
    "        lc_f1_test_std = np.std(lc_f1_test_scores, axis=1)\n",
    "        \n",
    "        ax3.set_title(\"Learning Curve\", fontsize=16)\n",
    "        ax3.set_xlabel(\"Training examples\")\n",
    "        ax3.set_ylabel(\"Score\")\n",
    "\n",
    "        # Plot learning curve (Accuracy)\n",
    "        ax3.fill_between(lc_acc_train_sizes, \n",
    "                         lc_acc_train_mean - lc_acc_train_std,\n",
    "                         lc_acc_train_mean + lc_acc_train_std, alpha=0.1, color=\"r\")\n",
    "        ax3.fill_between(lc_acc_train_sizes, \n",
    "                         lc_acc_test_mean - lc_acc_test_std,\n",
    "                         lc_acc_test_mean + lc_acc_test_std, alpha=0.1, color=\"r\")\n",
    "        ax3.plot(lc_acc_train_sizes, lc_acc_train_mean, 'o--', color=\"r\",\n",
    "                 label=\"Accuracy (Train)\")\n",
    "        ax3.plot(lc_acc_train_sizes, lc_acc_test_mean, 'o-', color=\"r\",\n",
    "                 label=\"Accuracy (Test)\")\n",
    "        \n",
    "        # Plot learning curve (F1 Score)\n",
    "        ax3.fill_between(lc_f1_train_sizes, \n",
    "                         lc_f1_train_mean - lc_f1_train_std,\n",
    "                         lc_f1_train_mean + lc_f1_train_std, alpha=0.1, color=\"g\")\n",
    "        ax3.fill_between(lc_f1_train_sizes, \n",
    "                         lc_f1_test_mean - lc_f1_test_std,\n",
    "                         lc_f1_test_mean + lc_f1_test_std, alpha=0.1, color=\"g\")\n",
    "        ax3.plot(lc_f1_train_sizes, lc_f1_train_mean, 'o--', color=\"g\",\n",
    "                 label=\"F1 (Train)\")\n",
    "        ax3.plot(lc_f1_train_sizes, lc_f1_test_mean, 'o-', color=\"g\",\n",
    "                 label=\"F1 (Test)\")\n",
    "\n",
    "        ax3.legend(loc=\"best\")\n",
    "        ax3.grid(True)\n",
    "        \n",
    "        plt.tight_layout(pad=3.0)\n",
    "        plt.show()\n",
    "        \n",
    "        ### Confusion Matrix ###\n",
    "        class_names = ['Lower', 'Hold', 'Raise']\n",
    "        fig, ((ax1, ax2), (ax3, ax4)) = plt.subplots(2, 2, figsize=(15, 10))\n",
    "        fig.suptitle(\"Confusion Matrix\", fontsize=20)\n",
    "        \n",
    "        plot_confusion_matrix(best_estimator, x_train, y_train, display_labels=class_names, \n",
    "                              cmap=plt.cm.Blues, normalize=None, ax=ax1)\n",
    "        ax1.set_title(\"Train Data: Actual Count\")\n",
    "        ax1.grid(False)\n",
    "        \n",
    "        plot_confusion_matrix(best_estimator, x_train, y_train, display_labels=class_names, \n",
    "                              cmap=plt.cm.Blues, normalize='all', ax=ax2)\n",
    "        ax2.set_title=(\"Train Data: Normalized\")\n",
    "        ax2.grid(False)\n",
    "        \n",
    "        plot_confusion_matrix(best_estimator, x_test, y_test, display_labels=class_names, \n",
    "                              cmap=plt.cm.Blues, normalize=None, ax=ax3)\n",
    "        ax3.set_title=(\"Test Data: Actual Count\")\n",
    "        ax3.grid(False)\n",
    "        \n",
    "        plot_confusion_matrix(best_estimator, x_test, y_test, display_labels=class_names, \n",
    "                              cmap=plt.cm.Blues, normalize='all', ax=ax4)\n",
    "        ax4.set_title(\"Test Data: Normalized\")\n",
    "        ax4.grid(False)\n",
    "        \n",
    "        plt.tight_layout(pad=3.0)\n",
    "        plt.show()\n",
    "    \n",
    "    return model\n"
   ]
  },
  {
   "cell_type": "code",
   "execution_count": null,
   "metadata": {},
   "outputs": [],
   "source": []
  },
  {
   "cell_type": "code",
   "execution_count": 18,
   "metadata": {},
   "outputs": [
    {
     "name": "stdout",
     "output_type": "stream",
     "text": [
      "Fitting 7 folds for each of 50 candidates, totalling 350 fits\n"
     ]
    },
    {
     "name": "stderr",
     "output_type": "stream",
     "text": [
      "[2022-01-30 12:12:17,376][INFO] ## Training - acc: 0.97201018, f1: 0.97193196\n",
      "[2022-01-30 12:12:17,378][INFO] ## Test - acc: 0.87755102, f1: 0.80630631\n"
     ]
    },
    {
     "name": "stdout",
     "output_type": "stream",
     "text": [
      "Best Score:  0.8647323228128055\n",
      "Best Param:  {'bootstrap': False, 'criterion': 'gini', 'max_depth': None, 'max_features': 8, 'min_samples_leaf': 10, 'min_samples_split': 5, 'n_estimators': 367}\n"
     ]
    },
    {
     "data": {
      "image/png": "[encoded data removed]",
      "text/plain": [
       "<Figure size 1080x360 with 3 Axes>"
      ]
     },
     "metadata": {
      "needs_background": "light"
     },
     "output_type": "display_data"
    },
    {
     "name": "stderr",
     "output_type": "stream",
     "text": [
      "/Users/akalodzitsa/opt/anaconda3/lib/python3.9/site-packages/sklearn/utils/deprecation.py:87: FutureWarning: Function plot_confusion_matrix is deprecated; Function `plot_confusion_matrix` is deprecated in 1.0 and will be removed in 1.2. Use one of the class methods: ConfusionMatrixDisplay.from_predictions or ConfusionMatrixDisplay.from_estimator.\n",
      "  warnings.warn(msg, category=FutureWarning)\n",
      "/Users/akalodzitsa/opt/anaconda3/lib/python3.9/site-packages/sklearn/utils/deprecation.py:87: FutureWarning: Function plot_confusion_matrix is deprecated; Function `plot_confusion_matrix` is deprecated in 1.0 and will be removed in 1.2. Use one of the class methods: ConfusionMatrixDisplay.from_predictions or ConfusionMatrixDisplay.from_estimator.\n",
      "  warnings.warn(msg, category=FutureWarning)\n",
      "/Users/akalodzitsa/opt/anaconda3/lib/python3.9/site-packages/sklearn/utils/deprecation.py:87: FutureWarning: Function plot_confusion_matrix is deprecated; Function `plot_confusion_matrix` is deprecated in 1.0 and will be removed in 1.2. Use one of the class methods: ConfusionMatrixDisplay.from_predictions or ConfusionMatrixDisplay.from_estimator.\n",
      "  warnings.warn(msg, category=FutureWarning)\n",
      "/Users/akalodzitsa/opt/anaconda3/lib/python3.9/site-packages/sklearn/utils/deprecation.py:87: FutureWarning: Function plot_confusion_matrix is deprecated; Function `plot_confusion_matrix` is deprecated in 1.0 and will be removed in 1.2. Use one of the class methods: ConfusionMatrixDisplay.from_predictions or ConfusionMatrixDisplay.from_estimator.\n",
      "  warnings.warn(msg, category=FutureWarning)\n"
     ]
    },
    {
     "data": {
      "image/png": "[encoded data removed]",
      "text/plain": [
       "<Figure size 1080x720 with 8 Axes>"
      ]
     },
     "metadata": {
      "needs_background": "light"
     },
     "output_type": "display_data"
    }
   ],
   "source": [
    "# Random Forest\n",
    "rf_clf = RandomForestClassifier()\n",
    "\n",
    "\n",
    "# Perform Grid Search\n",
    "param_grid = {'n_estimators': np.linspace(1, 500, 50, dtype=int),\n",
    "              'min_samples_split': [5],\n",
    "              'min_samples_leaf': [10],\n",
    "              'max_features': [8],\n",
    "              'max_depth': [None],\n",
    "              'criterion': ['gini'],\n",
    "              'bootstrap': [False]}\n",
    "\n",
    "ext_model = train_grid_search(rf_clf, param_grid, scoring, refit, cv=kfold, verbose=1, plot=True)\n",
    "ext_best = ext_model.best_estimator_\n"
   ]
  },
  {
   "cell_type": "code",
   "execution_count": null,
   "metadata": {},
   "outputs": [],
   "source": []
  },
  {
   "cell_type": "markdown",
   "metadata": {},
   "source": [
    "## Final Model"
   ]
  },
  {
   "cell_type": "code",
   "execution_count": 19,
   "metadata": {},
   "outputs": [
    {
     "name": "stdout",
     "output_type": "stream",
     "text": [
      "Accuracy:  0.8367346938775511\n",
      "ROC score:  0.9394368858654573\n"
     ]
    }
   ],
   "source": [
    "rf_model = RandomForestClassifier(bootstrap = False, criterion = 'gini', \n",
    "                                  max_depth = None, max_features = 8, min_samples_leaf = 10, \n",
    "                                  min_samples_split = 5, n_estimators = 500)\n",
    "\n",
    "\n",
    "rf_model = rf_model.fit(x_train, y_train)\n",
    "rf_predictions = rf_model.predict(x_test)\n",
    "\n",
    "# accuracy\n",
    "scores = rf_model.score(x_test, y_test)\n",
    "print('Accuracy: ', scores)\n",
    "\n",
    "# roc \n",
    "print('ROC score: ', roc_auc_score(y_test, rf_model.predict_proba(x_test), multi_class='ovr'))"
   ]
  },
  {
   "cell_type": "markdown",
   "metadata": {},
   "source": [
    "## Visualize Predictions"
   ]
  },
  {
   "cell_type": "code",
   "execution_count": 20,
   "metadata": {},
   "outputs": [
    {
     "data": {
      "text/plain": [
       "<matplotlib.legend.Legend at 0x7ffc20348400>"
      ]
     },
     "execution_count": 20,
     "metadata": {},
     "output_type": "execute_result"
    },
    {
     "data": {
      "image/png": "[encoded data removed]",
      "text/plain": [
       "<Figure size 432x288 with 1 Axes>"
      ]
     },
     "metadata": {
      "needs_background": "light"
     },
     "output_type": "display_data"
    }
   ],
   "source": [
    "plt.plot(y_test, 'o', color='orange', label = \"Actual\")\n",
    "plt.plot(rf_predictions,  'x', color='blue', label = \"Prediction\")\n",
    "plt.title('1-Step Ahead')\n",
    "plt.legend()"
   ]
  },
  {
   "cell_type": "code",
   "execution_count": 21,
   "metadata": {},
   "outputs": [
    {
     "name": "stderr",
     "output_type": "stream",
     "text": [
      "/Users/akalodzitsa/opt/anaconda3/lib/python3.9/site-packages/sklearn/utils/deprecation.py:87: FutureWarning: Function plot_confusion_matrix is deprecated; Function `plot_confusion_matrix` is deprecated in 1.0 and will be removed in 1.2. Use one of the class methods: ConfusionMatrixDisplay.from_predictions or ConfusionMatrixDisplay.from_estimator.\n",
      "  warnings.warn(msg, category=FutureWarning)\n",
      "/Users/akalodzitsa/opt/anaconda3/lib/python3.9/site-packages/sklearn/utils/deprecation.py:87: FutureWarning: Function plot_confusion_matrix is deprecated; Function `plot_confusion_matrix` is deprecated in 1.0 and will be removed in 1.2. Use one of the class methods: ConfusionMatrixDisplay.from_predictions or ConfusionMatrixDisplay.from_estimator.\n",
      "  warnings.warn(msg, category=FutureWarning)\n",
      "/Users/akalodzitsa/opt/anaconda3/lib/python3.9/site-packages/sklearn/utils/deprecation.py:87: FutureWarning: Function plot_confusion_matrix is deprecated; Function `plot_confusion_matrix` is deprecated in 1.0 and will be removed in 1.2. Use one of the class methods: ConfusionMatrixDisplay.from_predictions or ConfusionMatrixDisplay.from_estimator.\n",
      "  warnings.warn(msg, category=FutureWarning)\n",
      "/Users/akalodzitsa/opt/anaconda3/lib/python3.9/site-packages/sklearn/utils/deprecation.py:87: FutureWarning: Function plot_confusion_matrix is deprecated; Function `plot_confusion_matrix` is deprecated in 1.0 and will be removed in 1.2. Use one of the class methods: ConfusionMatrixDisplay.from_predictions or ConfusionMatrixDisplay.from_estimator.\n",
      "  warnings.warn(msg, category=FutureWarning)\n"
     ]
    },
    {
     "data": {
      "image/png": "[encoded data removed]",
      "text/plain": [
       "<Figure size 1080x720 with 8 Axes>"
      ]
     },
     "metadata": {
      "needs_background": "light"
     },
     "output_type": "display_data"
    }
   ],
   "source": [
    "### Confusion Matrix ###\n",
    "class_names = ['Lower', 'Hold', 'Raise']\n",
    "fig, ((ax1, ax2), (ax3, ax4)) = plt.subplots(2, 2, figsize=(15, 10))\n",
    "fig.suptitle(\"Confusion Matrix\", fontsize=20)\n",
    "\n",
    "plot_confusion_matrix(rf_model, x_train, y_train, display_labels=class_names, \n",
    "                      cmap=plt.cm.Blues, normalize=None, ax=ax1)\n",
    "ax1.set_title(\"Train Data: Actual Count\")\n",
    "ax1.grid(False)\n",
    "\n",
    "plot_confusion_matrix(rf_model, x_train, y_train, display_labels=class_names, \n",
    "                      cmap=plt.cm.Blues, normalize='all', ax=ax2)\n",
    "ax2.set_title=(\"Train Data: Normalized\")\n",
    "ax2.grid(False)\n",
    "\n",
    "plot_confusion_matrix(rf_model, x_test, y_test, display_labels=class_names, \n",
    "                      cmap=plt.cm.Blues, normalize=None, ax=ax3)\n",
    "ax3.set_title=(\"Test Data: Actual Count\")\n",
    "ax3.grid(False)\n",
    "\n",
    "plot_confusion_matrix(rf_model, x_test, y_test, display_labels=class_names, \n",
    "                      cmap=plt.cm.Blues, normalize='all', ax=ax4)\n",
    "ax4.set_title(\"Test Data: Normalized\")\n",
    "ax4.grid(False)\n",
    "\n",
    "plt.tight_layout(pad=3.0)\n",
    "plt.show()\n",
    "    "
   ]
  },
  {
   "cell_type": "markdown",
   "metadata": {},
   "source": [
    "## Get numerical feature importances"
   ]
  },
  {
   "cell_type": "code",
   "execution_count": 22,
   "metadata": {},
   "outputs": [
    {
     "name": "stdout",
     "output_type": "stream",
     "text": [
      "Variable: Inertia_diff         Importance: 0.31\n",
      "Variable: PMI_value            Importance: 0.12\n",
      "Variable:                    3 Importance: 0.1\n",
      "Variable: Unemp_diff_year      Importance: 0.07\n",
      "Variable: GDP_diff_year        Importance: 0.04\n",
      "Variable: Employ_diff_year     Importance: 0.04\n",
      "Variable:                    6 Importance: 0.04\n",
      "Variable:                    7 Importance: 0.04\n",
      "Variable: PMI_diff_year        Importance: 0.03\n",
      "Variable: GDPPOT_diff_prev     Importance: 0.02\n",
      "Variable: Employ_diff_prev     Importance: 0.02\n",
      "Variable: Inertia-Rate         Importance: 0.02\n",
      "Variable: GDP_diff_prev        Importance: 0.01\n",
      "Variable: GDPPOT_diff_year     Importance: 0.01\n",
      "Variable: PCE_diff_year        Importance: 0.01\n",
      "Variable: CPI_diff_year        Importance: 0.01\n",
      "Variable: Unemp_value          Importance: 0.01\n",
      "Variable: Unemp_diff_prev      Importance: 0.01\n",
      "Variable: Employ_value         Importance: 0.01\n",
      "Variable: Hsales_diff_prev     Importance: 0.01\n",
      "Variable: Hsales_diff_year     Importance: 0.01\n",
      "Variable: Taylor-Rate          Importance: 0.01\n",
      "Variable: Balanced-Rate        Importance: 0.01\n",
      "Variable: Taylor_diff          Importance: 0.01\n",
      "Variable: Balanced_diff        Importance: 0.01\n",
      "Variable:                    0 Importance: 0.01\n",
      "Variable:                    1 Importance: 0.01\n",
      "Variable: PCE_diff_prev        Importance: 0.0\n",
      "Variable: CPI_diff_prev        Importance: 0.0\n",
      "Variable: PMI_diff_prev        Importance: 0.0\n",
      "Variable: Rsales_diff_prev     Importance: 0.0\n",
      "Variable:                    2 Importance: 0.0\n",
      "Variable:                    4 Importance: 0.0\n",
      "Variable:                    5 Importance: 0.0\n",
      "Variable:                    8 Importance: 0.0\n",
      "Variable:                    9 Importance: 0.0\n",
      "Variable:                   10 Importance: 0.0\n",
      "Variable:                   11 Importance: 0.0\n",
      "Variable:                   12 Importance: 0.0\n",
      "Variable:                   13 Importance: 0.0\n",
      "Variable:                   14 Importance: 0.0\n",
      "Variable:                   15 Importance: 0.0\n",
      "Variable:                   16 Importance: 0.0\n",
      "Variable:                   17 Importance: 0.0\n"
     ]
    }
   ],
   "source": [
    "importances = list(rf_model.feature_importances_)\n",
    "\n",
    "# List of tuples with variable and importance\n",
    "feature_importances = [(feature, round(importance, 2)) for feature, importance in zip(feature_list, importances)]\n",
    "\n",
    "# Sort the feature importances by most important first\n",
    "feature_importances = sorted(feature_importances, key = lambda x: x[1], reverse = True)\n",
    "\n",
    "# Print out the feature and importances \n",
    "[print('Variable: {:20} Importance: {}'.format(*pair)) for pair in feature_importances];\n"
   ]
  },
  {
   "cell_type": "code",
   "execution_count": 23,
   "metadata": {},
   "outputs": [
    {
     "data": {
      "text/html": [
       "<div>\n",
       "<style scoped>\n",
       "    .dataframe tbody tr th:only-of-type {\n",
       "        vertical-align: middle;\n",
       "    }\n",
       "\n",
       "    .dataframe tbody tr th {\n",
       "        vertical-align: top;\n",
       "    }\n",
       "\n",
       "    .dataframe thead th {\n",
       "        text-align: right;\n",
       "    }\n",
       "</style>\n",
       "<table border=\"1\" class=\"dataframe\">\n",
       "  <thead>\n",
       "    <tr style=\"text-align: right;\">\n",
       "      <th></th>\n",
       "      <th>word_count</th>\n",
       "      <th>next_rate</th>\n",
       "      <th>0</th>\n",
       "      <th>1</th>\n",
       "      <th>2</th>\n",
       "      <th>3</th>\n",
       "      <th>4</th>\n",
       "      <th>5</th>\n",
       "      <th>6</th>\n",
       "      <th>7</th>\n",
       "      <th>...</th>\n",
       "      <th>Taylor</th>\n",
       "      <th>Balanced</th>\n",
       "      <th>Inertia</th>\n",
       "      <th>Taylor-Rate</th>\n",
       "      <th>Balanced-Rate</th>\n",
       "      <th>Inertia-Rate</th>\n",
       "      <th>Taylor_diff</th>\n",
       "      <th>Balanced_diff</th>\n",
       "      <th>Inertia_diff</th>\n",
       "      <th>next_decision</th>\n",
       "    </tr>\n",
       "    <tr>\n",
       "      <th>next_meeting</th>\n",
       "      <th></th>\n",
       "      <th></th>\n",
       "      <th></th>\n",
       "      <th></th>\n",
       "      <th></th>\n",
       "      <th></th>\n",
       "      <th></th>\n",
       "      <th></th>\n",
       "      <th></th>\n",
       "      <th></th>\n",
       "      <th></th>\n",
       "      <th></th>\n",
       "      <th></th>\n",
       "      <th></th>\n",
       "      <th></th>\n",
       "      <th></th>\n",
       "      <th></th>\n",
       "      <th></th>\n",
       "      <th></th>\n",
       "      <th></th>\n",
       "      <th></th>\n",
       "    </tr>\n",
       "  </thead>\n",
       "  <tbody>\n",
       "    <tr>\n",
       "      <th>1993-05-18</th>\n",
       "      <td>5253.0</td>\n",
       "      <td>3.0</td>\n",
       "      <td>0.0</td>\n",
       "      <td>0.0</td>\n",
       "      <td>0.0</td>\n",
       "      <td>0.0</td>\n",
       "      <td>0.000000</td>\n",
       "      <td>0.0</td>\n",
       "      <td>0.0</td>\n",
       "      <td>0.999379</td>\n",
       "      <td>...</td>\n",
       "      <td>3.876557</td>\n",
       "      <td>2.706065</td>\n",
       "      <td>2.144090</td>\n",
       "      <td>0.876557</td>\n",
       "      <td>-0.293935</td>\n",
       "      <td>-0.855910</td>\n",
       "      <td>-0.412940</td>\n",
       "      <td>-0.651462</td>\n",
       "      <td>0.097719</td>\n",
       "      <td>2.0</td>\n",
       "    </tr>\n",
       "    <tr>\n",
       "      <th>1993-07-07</th>\n",
       "      <td>4414.0</td>\n",
       "      <td>3.0</td>\n",
       "      <td>0.0</td>\n",
       "      <td>0.0</td>\n",
       "      <td>0.0</td>\n",
       "      <td>0.0</td>\n",
       "      <td>0.000000</td>\n",
       "      <td>0.0</td>\n",
       "      <td>0.0</td>\n",
       "      <td>0.999252</td>\n",
       "      <td>...</td>\n",
       "      <td>4.124328</td>\n",
       "      <td>2.953836</td>\n",
       "      <td>2.106925</td>\n",
       "      <td>1.124328</td>\n",
       "      <td>-0.046164</td>\n",
       "      <td>-0.893075</td>\n",
       "      <td>0.247771</td>\n",
       "      <td>0.247771</td>\n",
       "      <td>-0.037166</td>\n",
       "      <td>2.0</td>\n",
       "    </tr>\n",
       "    <tr>\n",
       "      <th>1993-08-17</th>\n",
       "      <td>6309.0</td>\n",
       "      <td>3.0</td>\n",
       "      <td>0.0</td>\n",
       "      <td>0.0</td>\n",
       "      <td>0.0</td>\n",
       "      <td>0.0</td>\n",
       "      <td>0.031083</td>\n",
       "      <td>0.0</td>\n",
       "      <td>0.0</td>\n",
       "      <td>0.968376</td>\n",
       "      <td>...</td>\n",
       "      <td>4.113643</td>\n",
       "      <td>2.905487</td>\n",
       "      <td>2.114177</td>\n",
       "      <td>1.113643</td>\n",
       "      <td>-0.094513</td>\n",
       "      <td>-0.885823</td>\n",
       "      <td>-0.010685</td>\n",
       "      <td>-0.048350</td>\n",
       "      <td>0.007252</td>\n",
       "      <td>2.0</td>\n",
       "    </tr>\n",
       "  </tbody>\n",
       "</table>\n",
       "<p>3 rows × 78 columns</p>\n",
       "</div>"
      ],
      "text/plain": [
       "              word_count  next_rate    0    1    2    3         4    5    6  \\\n",
       "next_meeting                                                                  \n",
       "1993-05-18        5253.0        3.0  0.0  0.0  0.0  0.0  0.000000  0.0  0.0   \n",
       "1993-07-07        4414.0        3.0  0.0  0.0  0.0  0.0  0.000000  0.0  0.0   \n",
       "1993-08-17        6309.0        3.0  0.0  0.0  0.0  0.0  0.031083  0.0  0.0   \n",
       "\n",
       "                     7  ...    Taylor  Balanced   Inertia  Taylor-Rate  \\\n",
       "next_meeting            ...                                              \n",
       "1993-05-18    0.999379  ...  3.876557  2.706065  2.144090     0.876557   \n",
       "1993-07-07    0.999252  ...  4.124328  2.953836  2.106925     1.124328   \n",
       "1993-08-17    0.968376  ...  4.113643  2.905487  2.114177     1.113643   \n",
       "\n",
       "              Balanced-Rate  Inertia-Rate  Taylor_diff  Balanced_diff  \\\n",
       "next_meeting                                                            \n",
       "1993-05-18        -0.293935     -0.855910    -0.412940      -0.651462   \n",
       "1993-07-07        -0.046164     -0.893075     0.247771       0.247771   \n",
       "1993-08-17        -0.094513     -0.885823    -0.010685      -0.048350   \n",
       "\n",
       "              Inertia_diff  next_decision  \n",
       "next_meeting                               \n",
       "1993-05-18        0.097719            2.0  \n",
       "1993-07-07       -0.037166            2.0  \n",
       "1993-08-17        0.007252            2.0  \n",
       "\n",
       "[3 rows x 78 columns]"
      ]
     },
     "execution_count": 23,
     "metadata": {},
     "output_type": "execute_result"
    }
   ],
   "source": [
    "data.head(3)"
   ]
  },
  {
   "cell_type": "code",
   "execution_count": 24,
   "metadata": {},
   "outputs": [
    {
     "data": {
      "text/plain": [
       "<matplotlib.legend.Legend at 0x7ffc50949250>"
      ]
     },
     "execution_count": 24,
     "metadata": {},
     "output_type": "execute_result"
    },
    {
     "data": {
      "image/png": "[encoded data removed]",
      "text/plain": [
       "<Figure size 800x480 with 1 Axes>"
      ]
     },
     "metadata": {
      "needs_background": "light"
     },
     "output_type": "display_data"
    }
   ],
   "source": [
    "#plt.plot(data.index, data.Inertia_diff, label = 'Inertia Rule')\n",
    "#plt.plot(data.index, np.log(data.PMI_value), label = 'PMI')\n",
    "\n",
    "plt.figure(figsize=(10, 6), dpi=80)\n",
    "\n",
    "plt.plot(data.index, data.next_rate, 'o', alpha = 0.5, label = 'Next Rate Decision')\n",
    "plt.plot(data.index, data[6], 'x', label = 'Topic 6')\n",
    "plt.plot(data.index, data[5], 'x', label = 'Topic 5')\n",
    "plt.legend()"
   ]
  },
  {
   "cell_type": "code",
   "execution_count": 25,
   "metadata": {},
   "outputs": [
    {
     "data": {
      "text/html": [
       "<div>\n",
       "<style scoped>\n",
       "    .dataframe tbody tr th:only-of-type {\n",
       "        vertical-align: middle;\n",
       "    }\n",
       "\n",
       "    .dataframe tbody tr th {\n",
       "        vertical-align: top;\n",
       "    }\n",
       "\n",
       "    .dataframe thead th {\n",
       "        text-align: right;\n",
       "    }\n",
       "</style>\n",
       "<table border=\"1\" class=\"dataframe\">\n",
       "  <thead>\n",
       "    <tr style=\"text-align: right;\">\n",
       "      <th></th>\n",
       "      <th>word_count</th>\n",
       "      <th>next_rate</th>\n",
       "      <th>0</th>\n",
       "      <th>1</th>\n",
       "      <th>2</th>\n",
       "      <th>3</th>\n",
       "      <th>4</th>\n",
       "      <th>5</th>\n",
       "      <th>6</th>\n",
       "      <th>7</th>\n",
       "      <th>...</th>\n",
       "      <th>Taylor</th>\n",
       "      <th>Balanced</th>\n",
       "      <th>Inertia</th>\n",
       "      <th>Taylor-Rate</th>\n",
       "      <th>Balanced-Rate</th>\n",
       "      <th>Inertia-Rate</th>\n",
       "      <th>Taylor_diff</th>\n",
       "      <th>Balanced_diff</th>\n",
       "      <th>Inertia_diff</th>\n",
       "      <th>next_decision</th>\n",
       "    </tr>\n",
       "    <tr>\n",
       "      <th>next_meeting</th>\n",
       "      <th></th>\n",
       "      <th></th>\n",
       "      <th></th>\n",
       "      <th></th>\n",
       "      <th></th>\n",
       "      <th></th>\n",
       "      <th></th>\n",
       "      <th></th>\n",
       "      <th></th>\n",
       "      <th></th>\n",
       "      <th></th>\n",
       "      <th></th>\n",
       "      <th></th>\n",
       "      <th></th>\n",
       "      <th></th>\n",
       "      <th></th>\n",
       "      <th></th>\n",
       "      <th></th>\n",
       "      <th></th>\n",
       "      <th></th>\n",
       "      <th></th>\n",
       "    </tr>\n",
       "  </thead>\n",
       "  <tbody>\n",
       "    <tr>\n",
       "      <th>1993-05-18</th>\n",
       "      <td>5253.000000</td>\n",
       "      <td>3.0</td>\n",
       "      <td>0.000000</td>\n",
       "      <td>0.000000</td>\n",
       "      <td>0.000000</td>\n",
       "      <td>0.0</td>\n",
       "      <td>0.000000</td>\n",
       "      <td>0.000000</td>\n",
       "      <td>0.0</td>\n",
       "      <td>0.999379</td>\n",
       "      <td>...</td>\n",
       "      <td>3.876557</td>\n",
       "      <td>2.706065</td>\n",
       "      <td>2.144090</td>\n",
       "      <td>0.876557</td>\n",
       "      <td>-0.293935</td>\n",
       "      <td>-0.855910</td>\n",
       "      <td>-0.412940</td>\n",
       "      <td>-0.651462</td>\n",
       "      <td>0.097719</td>\n",
       "      <td>2.0</td>\n",
       "    </tr>\n",
       "    <tr>\n",
       "      <th>1993-07-07</th>\n",
       "      <td>4414.000000</td>\n",
       "      <td>3.0</td>\n",
       "      <td>0.000000</td>\n",
       "      <td>0.000000</td>\n",
       "      <td>0.000000</td>\n",
       "      <td>0.0</td>\n",
       "      <td>0.000000</td>\n",
       "      <td>0.000000</td>\n",
       "      <td>0.0</td>\n",
       "      <td>0.999252</td>\n",
       "      <td>...</td>\n",
       "      <td>4.124328</td>\n",
       "      <td>2.953836</td>\n",
       "      <td>2.106925</td>\n",
       "      <td>1.124328</td>\n",
       "      <td>-0.046164</td>\n",
       "      <td>-0.893075</td>\n",
       "      <td>0.247771</td>\n",
       "      <td>0.247771</td>\n",
       "      <td>-0.037166</td>\n",
       "      <td>2.0</td>\n",
       "    </tr>\n",
       "    <tr>\n",
       "      <th>1993-08-17</th>\n",
       "      <td>6309.000000</td>\n",
       "      <td>3.0</td>\n",
       "      <td>0.000000</td>\n",
       "      <td>0.000000</td>\n",
       "      <td>0.000000</td>\n",
       "      <td>0.0</td>\n",
       "      <td>0.031083</td>\n",
       "      <td>0.000000</td>\n",
       "      <td>0.0</td>\n",
       "      <td>0.968376</td>\n",
       "      <td>...</td>\n",
       "      <td>4.113643</td>\n",
       "      <td>2.905487</td>\n",
       "      <td>2.114177</td>\n",
       "      <td>1.113643</td>\n",
       "      <td>-0.094513</td>\n",
       "      <td>-0.885823</td>\n",
       "      <td>-0.010685</td>\n",
       "      <td>-0.048350</td>\n",
       "      <td>0.007252</td>\n",
       "      <td>2.0</td>\n",
       "    </tr>\n",
       "    <tr>\n",
       "      <th>1993-09-21</th>\n",
       "      <td>4220.000000</td>\n",
       "      <td>3.0</td>\n",
       "      <td>0.000000</td>\n",
       "      <td>0.000000</td>\n",
       "      <td>0.000000</td>\n",
       "      <td>0.0</td>\n",
       "      <td>0.000000</td>\n",
       "      <td>0.000000</td>\n",
       "      <td>0.0</td>\n",
       "      <td>0.999204</td>\n",
       "      <td>...</td>\n",
       "      <td>3.853539</td>\n",
       "      <td>2.645383</td>\n",
       "      <td>2.153193</td>\n",
       "      <td>0.853539</td>\n",
       "      <td>-0.354617</td>\n",
       "      <td>-0.846807</td>\n",
       "      <td>-0.260104</td>\n",
       "      <td>-0.260104</td>\n",
       "      <td>0.039016</td>\n",
       "      <td>2.0</td>\n",
       "    </tr>\n",
       "    <tr>\n",
       "      <th>1993-10-05</th>\n",
       "      <td>4517.000000</td>\n",
       "      <td>3.0</td>\n",
       "      <td>0.000000</td>\n",
       "      <td>0.000000</td>\n",
       "      <td>0.043925</td>\n",
       "      <td>0.0</td>\n",
       "      <td>0.000000</td>\n",
       "      <td>0.000000</td>\n",
       "      <td>0.0</td>\n",
       "      <td>0.955451</td>\n",
       "      <td>...</td>\n",
       "      <td>3.998580</td>\n",
       "      <td>2.790424</td>\n",
       "      <td>2.131436</td>\n",
       "      <td>0.998580</td>\n",
       "      <td>-0.209576</td>\n",
       "      <td>-0.868564</td>\n",
       "      <td>0.145041</td>\n",
       "      <td>0.145041</td>\n",
       "      <td>-0.021756</td>\n",
       "      <td>2.0</td>\n",
       "    </tr>\n",
       "    <tr>\n",
       "      <th>...</th>\n",
       "      <td>...</td>\n",
       "      <td>...</td>\n",
       "      <td>...</td>\n",
       "      <td>...</td>\n",
       "      <td>...</td>\n",
       "      <td>...</td>\n",
       "      <td>...</td>\n",
       "      <td>...</td>\n",
       "      <td>...</td>\n",
       "      <td>...</td>\n",
       "      <td>...</td>\n",
       "      <td>...</td>\n",
       "      <td>...</td>\n",
       "      <td>...</td>\n",
       "      <td>...</td>\n",
       "      <td>...</td>\n",
       "      <td>...</td>\n",
       "      <td>...</td>\n",
       "      <td>...</td>\n",
       "      <td>...</td>\n",
       "      <td>...</td>\n",
       "    </tr>\n",
       "    <tr>\n",
       "      <th>2021-06-16</th>\n",
       "      <td>2939.000000</td>\n",
       "      <td>0.0</td>\n",
       "      <td>0.960124</td>\n",
       "      <td>0.028961</td>\n",
       "      <td>0.000000</td>\n",
       "      <td>0.0</td>\n",
       "      <td>0.000000</td>\n",
       "      <td>0.005220</td>\n",
       "      <td>0.0</td>\n",
       "      <td>0.000000</td>\n",
       "      <td>...</td>\n",
       "      <td>4.209310</td>\n",
       "      <td>2.794548</td>\n",
       "      <td>-0.419182</td>\n",
       "      <td>4.209310</td>\n",
       "      <td>2.794548</td>\n",
       "      <td>-0.419182</td>\n",
       "      <td>2.922618</td>\n",
       "      <td>2.794548</td>\n",
       "      <td>-0.419182</td>\n",
       "      <td>2.0</td>\n",
       "    </tr>\n",
       "    <tr>\n",
       "      <th>2021-07-28</th>\n",
       "      <td>2716.500000</td>\n",
       "      <td>0.0</td>\n",
       "      <td>0.965266</td>\n",
       "      <td>0.025540</td>\n",
       "      <td>0.000000</td>\n",
       "      <td>0.0</td>\n",
       "      <td>0.000000</td>\n",
       "      <td>0.000000</td>\n",
       "      <td>0.0</td>\n",
       "      <td>0.000000</td>\n",
       "      <td>...</td>\n",
       "      <td>4.771125</td>\n",
       "      <td>3.356363</td>\n",
       "      <td>-0.503454</td>\n",
       "      <td>4.771125</td>\n",
       "      <td>3.356363</td>\n",
       "      <td>-0.503454</td>\n",
       "      <td>0.561815</td>\n",
       "      <td>0.561815</td>\n",
       "      <td>-0.084272</td>\n",
       "      <td>2.0</td>\n",
       "    </tr>\n",
       "    <tr>\n",
       "      <th>2021-09-22</th>\n",
       "      <td>3146.000000</td>\n",
       "      <td>0.0</td>\n",
       "      <td>0.977887</td>\n",
       "      <td>0.000000</td>\n",
       "      <td>0.000000</td>\n",
       "      <td>0.0</td>\n",
       "      <td>0.000000</td>\n",
       "      <td>0.012653</td>\n",
       "      <td>0.0</td>\n",
       "      <td>0.000000</td>\n",
       "      <td>...</td>\n",
       "      <td>5.563014</td>\n",
       "      <td>4.720695</td>\n",
       "      <td>-0.708104</td>\n",
       "      <td>5.563014</td>\n",
       "      <td>4.720695</td>\n",
       "      <td>-0.708104</td>\n",
       "      <td>0.791889</td>\n",
       "      <td>1.364332</td>\n",
       "      <td>-0.204650</td>\n",
       "      <td>2.0</td>\n",
       "    </tr>\n",
       "    <tr>\n",
       "      <th>2021-11-03</th>\n",
       "      <td>2272.750000</td>\n",
       "      <td>0.0</td>\n",
       "      <td>0.977192</td>\n",
       "      <td>0.000000</td>\n",
       "      <td>0.006660</td>\n",
       "      <td>0.0</td>\n",
       "      <td>0.007253</td>\n",
       "      <td>0.000000</td>\n",
       "      <td>0.0</td>\n",
       "      <td>0.000000</td>\n",
       "      <td>...</td>\n",
       "      <td>5.747177</td>\n",
       "      <td>4.940210</td>\n",
       "      <td>-0.741032</td>\n",
       "      <td>5.747177</td>\n",
       "      <td>4.940210</td>\n",
       "      <td>-0.741032</td>\n",
       "      <td>0.184163</td>\n",
       "      <td>0.219515</td>\n",
       "      <td>-0.032927</td>\n",
       "      <td>2.0</td>\n",
       "    </tr>\n",
       "    <tr>\n",
       "      <th>2021-12-15</th>\n",
       "      <td>1592.833333</td>\n",
       "      <td>0.0</td>\n",
       "      <td>0.976769</td>\n",
       "      <td>0.006543</td>\n",
       "      <td>0.000000</td>\n",
       "      <td>0.0</td>\n",
       "      <td>0.000000</td>\n",
       "      <td>0.012312</td>\n",
       "      <td>0.0</td>\n",
       "      <td>0.000000</td>\n",
       "      <td>...</td>\n",
       "      <td>6.480214</td>\n",
       "      <td>5.673248</td>\n",
       "      <td>-0.850987</td>\n",
       "      <td>6.480214</td>\n",
       "      <td>5.673248</td>\n",
       "      <td>-0.850987</td>\n",
       "      <td>0.733037</td>\n",
       "      <td>0.733037</td>\n",
       "      <td>-0.109956</td>\n",
       "      <td>2.0</td>\n",
       "    </tr>\n",
       "  </tbody>\n",
       "</table>\n",
       "<p>242 rows × 78 columns</p>\n",
       "</div>"
      ],
      "text/plain": [
       "               word_count  next_rate         0         1         2    3  \\\n",
       "next_meeting                                                              \n",
       "1993-05-18    5253.000000        3.0  0.000000  0.000000  0.000000  0.0   \n",
       "1993-07-07    4414.000000        3.0  0.000000  0.000000  0.000000  0.0   \n",
       "1993-08-17    6309.000000        3.0  0.000000  0.000000  0.000000  0.0   \n",
       "1993-09-21    4220.000000        3.0  0.000000  0.000000  0.000000  0.0   \n",
       "1993-10-05    4517.000000        3.0  0.000000  0.000000  0.043925  0.0   \n",
       "...                   ...        ...       ...       ...       ...  ...   \n",
       "2021-06-16    2939.000000        0.0  0.960124  0.028961  0.000000  0.0   \n",
       "2021-07-28    2716.500000        0.0  0.965266  0.025540  0.000000  0.0   \n",
       "2021-09-22    3146.000000        0.0  0.977887  0.000000  0.000000  0.0   \n",
       "2021-11-03    2272.750000        0.0  0.977192  0.000000  0.006660  0.0   \n",
       "2021-12-15    1592.833333        0.0  0.976769  0.006543  0.000000  0.0   \n",
       "\n",
       "                     4         5    6         7  ...    Taylor  Balanced  \\\n",
       "next_meeting                                     ...                       \n",
       "1993-05-18    0.000000  0.000000  0.0  0.999379  ...  3.876557  2.706065   \n",
       "1993-07-07    0.000000  0.000000  0.0  0.999252  ...  4.124328  2.953836   \n",
       "1993-08-17    0.031083  0.000000  0.0  0.968376  ...  4.113643  2.905487   \n",
       "1993-09-21    0.000000  0.000000  0.0  0.999204  ...  3.853539  2.645383   \n",
       "1993-10-05    0.000000  0.000000  0.0  0.955451  ...  3.998580  2.790424   \n",
       "...                ...       ...  ...       ...  ...       ...       ...   \n",
       "2021-06-16    0.000000  0.005220  0.0  0.000000  ...  4.209310  2.794548   \n",
       "2021-07-28    0.000000  0.000000  0.0  0.000000  ...  4.771125  3.356363   \n",
       "2021-09-22    0.000000  0.012653  0.0  0.000000  ...  5.563014  4.720695   \n",
       "2021-11-03    0.007253  0.000000  0.0  0.000000  ...  5.747177  4.940210   \n",
       "2021-12-15    0.000000  0.012312  0.0  0.000000  ...  6.480214  5.673248   \n",
       "\n",
       "               Inertia  Taylor-Rate  Balanced-Rate  Inertia-Rate  Taylor_diff  \\\n",
       "next_meeting                                                                    \n",
       "1993-05-18    2.144090     0.876557      -0.293935     -0.855910    -0.412940   \n",
       "1993-07-07    2.106925     1.124328      -0.046164     -0.893075     0.247771   \n",
       "1993-08-17    2.114177     1.113643      -0.094513     -0.885823    -0.010685   \n",
       "1993-09-21    2.153193     0.853539      -0.354617     -0.846807    -0.260104   \n",
       "1993-10-05    2.131436     0.998580      -0.209576     -0.868564     0.145041   \n",
       "...                ...          ...            ...           ...          ...   \n",
       "2021-06-16   -0.419182     4.209310       2.794548     -0.419182     2.922618   \n",
       "2021-07-28   -0.503454     4.771125       3.356363     -0.503454     0.561815   \n",
       "2021-09-22   -0.708104     5.563014       4.720695     -0.708104     0.791889   \n",
       "2021-11-03   -0.741032     5.747177       4.940210     -0.741032     0.184163   \n",
       "2021-12-15   -0.850987     6.480214       5.673248     -0.850987     0.733037   \n",
       "\n",
       "              Balanced_diff  Inertia_diff  next_decision  \n",
       "next_meeting                                              \n",
       "1993-05-18        -0.651462      0.097719            2.0  \n",
       "1993-07-07         0.247771     -0.037166            2.0  \n",
       "1993-08-17        -0.048350      0.007252            2.0  \n",
       "1993-09-21        -0.260104      0.039016            2.0  \n",
       "1993-10-05         0.145041     -0.021756            2.0  \n",
       "...                     ...           ...            ...  \n",
       "2021-06-16         2.794548     -0.419182            2.0  \n",
       "2021-07-28         0.561815     -0.084272            2.0  \n",
       "2021-09-22         1.364332     -0.204650            2.0  \n",
       "2021-11-03         0.219515     -0.032927            2.0  \n",
       "2021-12-15         0.733037     -0.109956            2.0  \n",
       "\n",
       "[242 rows x 78 columns]"
      ]
     },
     "metadata": {},
     "output_type": "display_data"
    }
   ],
   "source": [
    "display(data)"
   ]
  },
  {
   "cell_type": "markdown",
   "metadata": {},
   "source": [
    "## Save Model"
   ]
  },
  {
   "cell_type": "code",
   "execution_count": 26,
   "metadata": {},
   "outputs": [],
   "source": [
    "# save the model to disk\n",
    "pickle.dump(rf_model, open('../data/final_fed_model', 'wb'))"
   ]
  },
  {
   "cell_type": "code",
   "execution_count": 32,
   "metadata": {},
   "outputs": [
    {
     "data": {
      "text/html": [
       "<div>\n",
       "<style scoped>\n",
       "    .dataframe tbody tr th:only-of-type {\n",
       "        vertical-align: middle;\n",
       "    }\n",
       "\n",
       "    .dataframe tbody tr th {\n",
       "        vertical-align: top;\n",
       "    }\n",
       "\n",
       "    .dataframe thead th {\n",
       "        text-align: right;\n",
       "    }\n",
       "</style>\n",
       "<table border=\"1\" class=\"dataframe\">\n",
       "  <thead>\n",
       "    <tr style=\"text-align: right;\">\n",
       "      <th></th>\n",
       "      <th>Hsales_diff_prev</th>\n",
       "      <th>Hsales_diff_year</th>\n",
       "      <th>Taylor</th>\n",
       "      <th>Balanced</th>\n",
       "      <th>Inertia</th>\n",
       "      <th>Taylor-Rate</th>\n",
       "      <th>Balanced-Rate</th>\n",
       "      <th>Inertia-Rate</th>\n",
       "      <th>Taylor_diff</th>\n",
       "      <th>Balanced_diff</th>\n",
       "      <th>Inertia_diff</th>\n",
       "      <th>next_decision</th>\n",
       "      <th>RateDecision_1</th>\n",
       "    </tr>\n",
       "    <tr>\n",
       "      <th>next_meeting</th>\n",
       "      <th></th>\n",
       "      <th></th>\n",
       "      <th></th>\n",
       "      <th></th>\n",
       "      <th></th>\n",
       "      <th></th>\n",
       "      <th></th>\n",
       "      <th></th>\n",
       "      <th></th>\n",
       "      <th></th>\n",
       "      <th></th>\n",
       "      <th></th>\n",
       "      <th></th>\n",
       "    </tr>\n",
       "  </thead>\n",
       "  <tbody>\n",
       "    <tr>\n",
       "      <th>1993-05-18</th>\n",
       "      <td>16.445183</td>\n",
       "      <td>28.388278</td>\n",
       "      <td>3.876557</td>\n",
       "      <td>2.706065</td>\n",
       "      <td>2.144090</td>\n",
       "      <td>0.876557</td>\n",
       "      <td>-0.293935</td>\n",
       "      <td>-0.855910</td>\n",
       "      <td>-0.412940</td>\n",
       "      <td>-0.651462</td>\n",
       "      <td>0.097719</td>\n",
       "      <td>2.0</td>\n",
       "      <td>NaN</td>\n",
       "    </tr>\n",
       "    <tr>\n",
       "      <th>1993-07-07</th>\n",
       "      <td>4.313099</td>\n",
       "      <td>9.563758</td>\n",
       "      <td>4.124328</td>\n",
       "      <td>2.953836</td>\n",
       "      <td>2.106925</td>\n",
       "      <td>1.124328</td>\n",
       "      <td>-0.046164</td>\n",
       "      <td>-0.893075</td>\n",
       "      <td>0.247771</td>\n",
       "      <td>0.247771</td>\n",
       "      <td>-0.037166</td>\n",
       "      <td>2.0</td>\n",
       "      <td>2.0</td>\n",
       "    </tr>\n",
       "    <tr>\n",
       "      <th>1993-08-17</th>\n",
       "      <td>0.306279</td>\n",
       "      <td>4.465710</td>\n",
       "      <td>4.113643</td>\n",
       "      <td>2.905487</td>\n",
       "      <td>2.114177</td>\n",
       "      <td>1.113643</td>\n",
       "      <td>-0.094513</td>\n",
       "      <td>-0.885823</td>\n",
       "      <td>-0.010685</td>\n",
       "      <td>-0.048350</td>\n",
       "      <td>0.007252</td>\n",
       "      <td>2.0</td>\n",
       "      <td>2.0</td>\n",
       "    </tr>\n",
       "    <tr>\n",
       "      <th>1993-09-21</th>\n",
       "      <td>-1.526718</td>\n",
       "      <td>1.415094</td>\n",
       "      <td>3.853539</td>\n",
       "      <td>2.645383</td>\n",
       "      <td>2.153193</td>\n",
       "      <td>0.853539</td>\n",
       "      <td>-0.354617</td>\n",
       "      <td>-0.846807</td>\n",
       "      <td>-0.260104</td>\n",
       "      <td>-0.260104</td>\n",
       "      <td>0.039016</td>\n",
       "      <td>2.0</td>\n",
       "      <td>2.0</td>\n",
       "    </tr>\n",
       "    <tr>\n",
       "      <th>1993-10-05</th>\n",
       "      <td>12.558140</td>\n",
       "      <td>11.692308</td>\n",
       "      <td>3.998580</td>\n",
       "      <td>2.790424</td>\n",
       "      <td>2.131436</td>\n",
       "      <td>0.998580</td>\n",
       "      <td>-0.209576</td>\n",
       "      <td>-0.868564</td>\n",
       "      <td>0.145041</td>\n",
       "      <td>0.145041</td>\n",
       "      <td>-0.021756</td>\n",
       "      <td>2.0</td>\n",
       "      <td>2.0</td>\n",
       "    </tr>\n",
       "  </tbody>\n",
       "</table>\n",
       "</div>"
      ],
      "text/plain": [
       "              Hsales_diff_prev  Hsales_diff_year    Taylor  Balanced  \\\n",
       "next_meeting                                                           \n",
       "1993-05-18           16.445183         28.388278  3.876557  2.706065   \n",
       "1993-07-07            4.313099          9.563758  4.124328  2.953836   \n",
       "1993-08-17            0.306279          4.465710  4.113643  2.905487   \n",
       "1993-09-21           -1.526718          1.415094  3.853539  2.645383   \n",
       "1993-10-05           12.558140         11.692308  3.998580  2.790424   \n",
       "\n",
       "               Inertia  Taylor-Rate  Balanced-Rate  Inertia-Rate  Taylor_diff  \\\n",
       "next_meeting                                                                    \n",
       "1993-05-18    2.144090     0.876557      -0.293935     -0.855910    -0.412940   \n",
       "1993-07-07    2.106925     1.124328      -0.046164     -0.893075     0.247771   \n",
       "1993-08-17    2.114177     1.113643      -0.094513     -0.885823    -0.010685   \n",
       "1993-09-21    2.153193     0.853539      -0.354617     -0.846807    -0.260104   \n",
       "1993-10-05    2.131436     0.998580      -0.209576     -0.868564     0.145041   \n",
       "\n",
       "              Balanced_diff  Inertia_diff  next_decision  RateDecision_1  \n",
       "next_meeting                                                              \n",
       "1993-05-18        -0.651462      0.097719            2.0             NaN  \n",
       "1993-07-07         0.247771     -0.037166            2.0             2.0  \n",
       "1993-08-17        -0.048350      0.007252            2.0             2.0  \n",
       "1993-09-21        -0.260104      0.039016            2.0             2.0  \n",
       "1993-10-05         0.145041     -0.021756            2.0             2.0  "
      ]
     },
     "execution_count": 32,
     "metadata": {},
     "output_type": "execute_result"
    }
   ],
   "source": [
    "data.iloc[:, -13:].head()"
   ]
  },
  {
   "cell_type": "markdown",
   "metadata": {},
   "source": [
    "## Multi-Step Predictions"
   ]
  },
  {
   "cell_type": "code",
   "execution_count": 52,
   "metadata": {},
   "outputs": [],
   "source": [
    "feature_columns = ['GDP_diff_prev', 'GDP_diff_year', 'GDPPOT_diff_prev',\n",
    "                   'GDPPOT_diff_year', 'PCE_diff_prev', 'PCE_diff_year',\n",
    "                   'CPI_diff_prev', 'CPI_diff_year', 'Unemp_value',\n",
    "                   'Unemp_diff_prev', 'Unemp_diff_year', 'Employ_value',\n",
    "                   'Employ_diff_prev', 'Employ_diff_year', 'PMI_value',\n",
    "                   'PMI_diff_prev', 'PMI_diff_year', 'Rsales_diff_prev',\n",
    "                   'Hsales_diff_prev', 'Hsales_diff_year', 'Taylor-Rate',\n",
    "                   'Balanced-Rate', 'Inertia-Rate',  'Taylor_diff',\n",
    "                   'Balanced_diff', 'Inertia_diff', 0, 1, 2, 3, 4, 5, 6, 7, 8, 9, 10, 11, 12, 13, 14, 15, 16, 17]\n",
    "\n",
    "future_pred = []\n",
    "\n",
    "def multi_step_pred(y_col, n_steps):\n",
    "    for step in n_steps:\n",
    "        col_name = str(y_col) + '_' + str(step)\n",
    "        print(f\"Step is {step} for column {col_name}\")\n",
    "        data[col_name] = data['RateDecision'].shift(step)\n",
    "        df = data.dropna(subset = [col_name])\n",
    "        \n",
    "        X = df[feature_columns]\n",
    "        X = X.dropna(axis='columns')\n",
    "        feature_list = list(X.columns)\n",
    "        print(f\"X: len is {X.shape[0]}, head of data is {X.iloc[:, -3:].head(3)} \\n tail of data is {X.iloc[:, -3:].tail(3)}\")\n",
    "        print(f\"Y: len is {df[col_name].shape[0]} and head of data is {df[col_name].head(3)} \\n tail data is {df[col_name]} and \")\n",
    "        X = np.array(X)\n",
    "        y = np.array(df[col_name])\n",
    "\n",
    "        # set random seed\n",
    "        random.seed(42)\n",
    "        np.random.seed(42)\n",
    "        rand_seed = 42\n",
    "\n",
    "        # split\n",
    "        x_train, x_test, y_train, y_test = train_test_split(X, y, test_size= 0.2, random_state = rand_seed, shuffle = False)\n",
    "        x_train, y_train = oversample.fit_resample(x_train, y_train)\n",
    "\n",
    "        rf_model = RandomForestClassifier(bootstrap = False, criterion = 'gini', \n",
    "                                      max_depth = None, max_features = 8, min_samples_leaf = 10, \n",
    "                                      min_samples_split = 5, n_estimators = 500)\n",
    "\n",
    "        rf_model = rf_model.fit(x_train, y_train)\n",
    "        rf_predictions = rf_model.predict(x_test)\n",
    "\n",
    "        # performance\n",
    "        scores = rf_model.score(x_test, y_test)\n",
    "        print(str(step) + '-Ahead Accuracy: ', scores)\n",
    "        print(str(step) + '-Ahead ROC score: ', roc_auc_score(y_test, rf_model.predict_proba(x_test), multi_class='ovr'))\n",
    "\n",
    "        # plot\n",
    "        plt.plot(y_test, 'o', color='orange', label = \"Actual\")\n",
    "        plt.plot(rf_predictions,  'x', color='blue', label = \"Prediction\")\n",
    "        plt.title(str(step) + '-Ahead Prediction')\n",
    "        plt.legend()\n",
    "        plt.show()\n",
    "\n",
    "        future_x = data[data.index == '2021-12-15']# change the date to the last date in the data\n",
    "        future_x = future_x.dropna(axis = 'columns')\n",
    "        future_x = future_x[feature_columns]\n",
    "\n",
    "        prediction = rf_model.predict(np.array(future_x))\n",
    "        prediction = int(prediction)\n",
    "        \n",
    "        future_pred.append(prediction)\n",
    "       \n",
    "    return future_pred\n",
    "    "
   ]
  },
  {
   "cell_type": "code",
   "execution_count": 53,
   "metadata": {},
   "outputs": [
    {
     "name": "stdout",
     "output_type": "stream",
     "text": [
      "Step is 1 for column RateDecision_1\n",
      "X: len is 241, head of data is                15   16   17\n",
      "next_meeting               \n",
      "1993-07-07    0.0  0.0  0.0\n",
      "1993-08-17    0.0  0.0  0.0\n",
      "1993-09-21    0.0  0.0  0.0 \n",
      " tail of data is                15   16   17\n",
      "next_meeting               \n",
      "2021-09-22    0.0  0.0  0.0\n",
      "2021-11-03    0.0  0.0  0.0\n",
      "2021-12-15    0.0  0.0  0.0\n",
      "Y: len is 241 and head of data is next_meeting\n",
      "1993-07-07    2.0\n",
      "1993-08-17    2.0\n",
      "1993-09-21    2.0\n",
      "Name: RateDecision_1, dtype: float64 \n",
      " tail data is next_meeting\n",
      "1993-07-07    2.0\n",
      "1993-08-17    2.0\n",
      "1993-09-21    2.0\n",
      "1993-10-05    2.0\n",
      "1993-12-21    2.0\n",
      "             ... \n",
      "2021-06-16    2.0\n",
      "2021-07-28    2.0\n",
      "2021-09-22    2.0\n",
      "2021-11-03    2.0\n",
      "2021-12-15    2.0\n",
      "Name: RateDecision_1, Length: 241, dtype: float64 and \n",
      "1-Ahead Accuracy:  0.8571428571428571\n",
      "1-Ahead ROC score:  0.9433639112210542\n"
     ]
    },
    {
     "data": {
      "image/png": "[encoded data removed]",
      "text/plain": [
       "<Figure size 432x288 with 1 Axes>"
      ]
     },
     "metadata": {
      "needs_background": "light"
     },
     "output_type": "display_data"
    },
    {
     "name": "stdout",
     "output_type": "stream",
     "text": [
      "Step is 2 for column RateDecision_2\n",
      "X: len is 240, head of data is                15   16   17\n",
      "next_meeting               \n",
      "1993-08-17    0.0  0.0  0.0\n",
      "1993-09-21    0.0  0.0  0.0\n",
      "1993-10-05    0.0  0.0  0.0 \n",
      " tail of data is                15   16   17\n",
      "next_meeting               \n",
      "2021-09-22    0.0  0.0  0.0\n",
      "2021-11-03    0.0  0.0  0.0\n",
      "2021-12-15    0.0  0.0  0.0\n",
      "Y: len is 240 and head of data is next_meeting\n",
      "1993-08-17    2.0\n",
      "1993-09-21    2.0\n",
      "1993-10-05    2.0\n",
      "Name: RateDecision_2, dtype: float64 \n",
      " tail data is next_meeting\n",
      "1993-08-17    2.0\n",
      "1993-09-21    2.0\n",
      "1993-10-05    2.0\n",
      "1993-12-21    2.0\n",
      "1994-02-04    2.0\n",
      "             ... \n",
      "2021-06-16    2.0\n",
      "2021-07-28    2.0\n",
      "2021-09-22    2.0\n",
      "2021-11-03    2.0\n",
      "2021-12-15    2.0\n",
      "Name: RateDecision_2, Length: 240, dtype: float64 and \n",
      "2-Ahead Accuracy:  0.5416666666666666\n",
      "2-Ahead ROC score:  0.687552292499853\n"
     ]
    },
    {
     "data": {
      "image/png": "[encoded data removed]",
      "text/plain": [
       "<Figure size 432x288 with 1 Axes>"
      ]
     },
     "metadata": {
      "needs_background": "light"
     },
     "output_type": "display_data"
    },
    {
     "name": "stdout",
     "output_type": "stream",
     "text": [
      "Step is 3 for column RateDecision_3\n",
      "X: len is 239, head of data is                15   16   17\n",
      "next_meeting               \n",
      "1993-09-21    0.0  0.0  0.0\n",
      "1993-10-05    0.0  0.0  0.0\n",
      "1993-12-21    0.0  0.0  0.0 \n",
      " tail of data is                15   16   17\n",
      "next_meeting               \n",
      "2021-09-22    0.0  0.0  0.0\n",
      "2021-11-03    0.0  0.0  0.0\n",
      "2021-12-15    0.0  0.0  0.0\n",
      "Y: len is 239 and head of data is next_meeting\n",
      "1993-09-21    2.0\n",
      "1993-10-05    2.0\n",
      "1993-12-21    2.0\n",
      "Name: RateDecision_3, dtype: float64 \n",
      " tail data is next_meeting\n",
      "1993-09-21    2.0\n",
      "1993-10-05    2.0\n",
      "1993-12-21    2.0\n",
      "1994-02-04    2.0\n",
      "1994-02-28    2.0\n",
      "             ... \n",
      "2021-06-16    2.0\n",
      "2021-07-28    2.0\n",
      "2021-09-22    2.0\n",
      "2021-11-03    2.0\n",
      "2021-12-15    2.0\n",
      "Name: RateDecision_3, Length: 239, dtype: float64 and \n",
      "3-Ahead Accuracy:  0.8125\n",
      "3-Ahead ROC score:  0.821527203606547\n"
     ]
    },
    {
     "data": {
      "image/png": "[encoded data removed]",
      "text/plain": [
       "<Figure size 432x288 with 1 Axes>"
      ]
     },
     "metadata": {
      "needs_background": "light"
     },
     "output_type": "display_data"
    },
    {
     "name": "stdout",
     "output_type": "stream",
     "text": [
      "Step is 4 for column RateDecision_4\n",
      "X: len is 238, head of data is                15   16   17\n",
      "next_meeting               \n",
      "1993-10-05    0.0  0.0  0.0\n",
      "1993-12-21    0.0  0.0  0.0\n",
      "1994-02-04    0.0  0.0  0.0 \n",
      " tail of data is                15   16   17\n",
      "next_meeting               \n",
      "2021-09-22    0.0  0.0  0.0\n",
      "2021-11-03    0.0  0.0  0.0\n",
      "2021-12-15    0.0  0.0  0.0\n",
      "Y: len is 238 and head of data is next_meeting\n",
      "1993-10-05    2.0\n",
      "1993-12-21    2.0\n",
      "1994-02-04    2.0\n",
      "Name: RateDecision_4, dtype: float64 \n",
      " tail data is next_meeting\n",
      "1993-10-05    2.0\n",
      "1993-12-21    2.0\n",
      "1994-02-04    2.0\n",
      "1994-02-28    2.0\n",
      "1994-04-18    2.0\n",
      "             ... \n",
      "2021-06-16    2.0\n",
      "2021-07-28    2.0\n",
      "2021-09-22    2.0\n",
      "2021-11-03    2.0\n",
      "2021-12-15    2.0\n",
      "Name: RateDecision_4, Length: 238, dtype: float64 and \n",
      "4-Ahead Accuracy:  0.6875\n",
      "4-Ahead ROC score:  0.7479802720796793\n"
     ]
    },
    {
     "data": {
      "image/png": "[encoded data removed]",
      "text/plain": [
       "<Figure size 432x288 with 1 Axes>"
      ]
     },
     "metadata": {
      "needs_background": "light"
     },
     "output_type": "display_data"
    },
    {
     "name": "stdout",
     "output_type": "stream",
     "text": [
      "Step is 5 for column RateDecision_5\n",
      "X: len is 237, head of data is                15   16   17\n",
      "next_meeting               \n",
      "1993-12-21    0.0  0.0  0.0\n",
      "1994-02-04    0.0  0.0  0.0\n",
      "1994-02-28    0.0  0.0  0.0 \n",
      " tail of data is                15   16   17\n",
      "next_meeting               \n",
      "2021-09-22    0.0  0.0  0.0\n",
      "2021-11-03    0.0  0.0  0.0\n",
      "2021-12-15    0.0  0.0  0.0\n",
      "Y: len is 237 and head of data is next_meeting\n",
      "1993-12-21    2.0\n",
      "1994-02-04    2.0\n",
      "1994-02-28    2.0\n",
      "Name: RateDecision_5, dtype: float64 \n",
      " tail data is next_meeting\n",
      "1993-12-21    2.0\n",
      "1994-02-04    2.0\n",
      "1994-02-28    2.0\n",
      "1994-04-18    2.0\n",
      "1994-05-17    2.0\n",
      "             ... \n",
      "2021-06-16    2.0\n",
      "2021-07-28    2.0\n",
      "2021-09-22    2.0\n",
      "2021-11-03    2.0\n",
      "2021-12-15    2.0\n",
      "Name: RateDecision_5, Length: 237, dtype: float64 and \n",
      "5-Ahead Accuracy:  0.6875\n",
      "5-Ahead ROC score:  0.7080029865255583\n"
     ]
    },
    {
     "data": {
      "image/png": "[encoded data removed]",
      "text/plain": [
       "<Figure size 432x288 with 1 Axes>"
      ]
     },
     "metadata": {
      "needs_background": "light"
     },
     "output_type": "display_data"
    },
    {
     "name": "stdout",
     "output_type": "stream",
     "text": [
      "Step is 6 for column RateDecision_6\n",
      "X: len is 236, head of data is                15   16   17\n",
      "next_meeting               \n",
      "1994-02-04    0.0  0.0  0.0\n",
      "1994-02-28    0.0  0.0  0.0\n",
      "1994-04-18    0.0  0.0  0.0 \n",
      " tail of data is                15   16   17\n",
      "next_meeting               \n",
      "2021-09-22    0.0  0.0  0.0\n",
      "2021-11-03    0.0  0.0  0.0\n",
      "2021-12-15    0.0  0.0  0.0\n",
      "Y: len is 236 and head of data is next_meeting\n",
      "1994-02-04    2.0\n",
      "1994-02-28    2.0\n",
      "1994-04-18    2.0\n",
      "Name: RateDecision_6, dtype: float64 \n",
      " tail data is next_meeting\n",
      "1994-02-04    2.0\n",
      "1994-02-28    2.0\n",
      "1994-04-18    2.0\n",
      "1994-05-17    2.0\n",
      "1994-07-06    2.0\n",
      "             ... \n",
      "2021-06-16    2.0\n",
      "2021-07-28    2.0\n",
      "2021-09-22    2.0\n",
      "2021-11-03    2.0\n",
      "2021-12-15    2.0\n",
      "Name: RateDecision_6, Length: 236, dtype: float64 and \n",
      "6-Ahead Accuracy:  0.5208333333333334\n",
      "6-Ahead ROC score:  0.5140367258014317\n"
     ]
    },
    {
     "data": {
      "image/png": "[encoded data removed]",
      "text/plain": [
       "<Figure size 432x288 with 1 Axes>"
      ]
     },
     "metadata": {
      "needs_background": "light"
     },
     "output_type": "display_data"
    },
    {
     "name": "stdout",
     "output_type": "stream",
     "text": [
      "Step is 7 for column RateDecision_7\n",
      "X: len is 235, head of data is                15   16   17\n",
      "next_meeting               \n",
      "1994-02-28    0.0  0.0  0.0\n",
      "1994-04-18    0.0  0.0  0.0\n",
      "1994-05-17    0.0  0.0  0.0 \n",
      " tail of data is                15   16   17\n",
      "next_meeting               \n",
      "2021-09-22    0.0  0.0  0.0\n",
      "2021-11-03    0.0  0.0  0.0\n",
      "2021-12-15    0.0  0.0  0.0\n",
      "Y: len is 235 and head of data is next_meeting\n",
      "1994-02-28    2.0\n",
      "1994-04-18    2.0\n",
      "1994-05-17    2.0\n",
      "Name: RateDecision_7, dtype: float64 \n",
      " tail data is next_meeting\n",
      "1994-02-28    2.0\n",
      "1994-04-18    2.0\n",
      "1994-05-17    2.0\n",
      "1994-07-06    2.0\n",
      "1994-07-20    2.0\n",
      "             ... \n",
      "2021-06-16    2.0\n",
      "2021-07-28    2.0\n",
      "2021-09-22    2.0\n",
      "2021-11-03    2.0\n",
      "2021-12-15    2.0\n",
      "Name: RateDecision_7, Length: 235, dtype: float64 and \n",
      "7-Ahead Accuracy:  0.6382978723404256\n",
      "7-Ahead ROC score:  0.7354370775423407\n"
     ]
    },
    {
     "data": {
      "image/png": "[encoded data removed]",
      "text/plain": [
       "<Figure size 432x288 with 1 Axes>"
      ]
     },
     "metadata": {
      "needs_background": "light"
     },
     "output_type": "display_data"
    },
    {
     "name": "stdout",
     "output_type": "stream",
     "text": [
      "Step is 8 for column RateDecision_8\n",
      "X: len is 234, head of data is                15   16   17\n",
      "next_meeting               \n",
      "1994-04-18    0.0  0.0  0.0\n",
      "1994-05-17    0.0  0.0  0.0\n",
      "1994-07-06    0.0  0.0  0.0 \n",
      " tail of data is                15   16   17\n",
      "next_meeting               \n",
      "2021-09-22    0.0  0.0  0.0\n",
      "2021-11-03    0.0  0.0  0.0\n",
      "2021-12-15    0.0  0.0  0.0\n",
      "Y: len is 234 and head of data is next_meeting\n",
      "1994-04-18    2.0\n",
      "1994-05-17    2.0\n",
      "1994-07-06    2.0\n",
      "Name: RateDecision_8, dtype: float64 \n",
      " tail data is next_meeting\n",
      "1994-04-18    2.0\n",
      "1994-05-17    2.0\n",
      "1994-07-06    2.0\n",
      "1994-07-20    2.0\n",
      "1994-09-27    2.0\n",
      "             ... \n",
      "2021-06-16    2.0\n",
      "2021-07-28    2.0\n",
      "2021-09-22    2.0\n",
      "2021-11-03    2.0\n",
      "2021-12-15    2.0\n",
      "Name: RateDecision_8, Length: 234, dtype: float64 and \n",
      "8-Ahead Accuracy:  0.6170212765957447\n",
      "8-Ahead ROC score:  0.5721605534105535\n"
     ]
    },
    {
     "data": {
      "image/png": "[encoded data removed]",
      "text/plain": [
       "<Figure size 432x288 with 1 Axes>"
      ]
     },
     "metadata": {
      "needs_background": "light"
     },
     "output_type": "display_data"
    },
    {
     "name": "stdout",
     "output_type": "stream",
     "text": [
      "Step is 9 for column RateDecision_9\n",
      "X: len is 233, head of data is                15   16   17\n",
      "next_meeting               \n",
      "1994-05-17    0.0  0.0  0.0\n",
      "1994-07-06    0.0  0.0  0.0\n",
      "1994-07-20    0.0  0.0  0.0 \n",
      " tail of data is                15   16   17\n",
      "next_meeting               \n",
      "2021-09-22    0.0  0.0  0.0\n",
      "2021-11-03    0.0  0.0  0.0\n",
      "2021-12-15    0.0  0.0  0.0\n",
      "Y: len is 233 and head of data is next_meeting\n",
      "1994-05-17    2.0\n",
      "1994-07-06    2.0\n",
      "1994-07-20    2.0\n",
      "Name: RateDecision_9, dtype: float64 \n",
      " tail data is next_meeting\n",
      "1994-05-17    2.0\n",
      "1994-07-06    2.0\n",
      "1994-07-20    2.0\n",
      "1994-09-27    2.0\n",
      "1994-11-15    2.0\n",
      "             ... \n",
      "2021-06-16    2.0\n",
      "2021-07-28    2.0\n",
      "2021-09-22    2.0\n",
      "2021-11-03    2.0\n",
      "2021-12-15    2.0\n",
      "Name: RateDecision_9, Length: 233, dtype: float64 and \n",
      "9-Ahead Accuracy:  0.7021276595744681\n",
      "9-Ahead ROC score:  0.6460129772629774\n"
     ]
    },
    {
     "data": {
      "image/png": "[encoded data removed]",
      "text/plain": [
       "<Figure size 432x288 with 1 Axes>"
      ]
     },
     "metadata": {
      "needs_background": "light"
     },
     "output_type": "display_data"
    },
    {
     "name": "stdout",
     "output_type": "stream",
     "text": [
      "Step is 10 for column RateDecision_10\n",
      "X: len is 232, head of data is                15   16   17\n",
      "next_meeting               \n",
      "1994-07-06    0.0  0.0  0.0\n",
      "1994-07-20    0.0  0.0  0.0\n",
      "1994-09-27    0.0  0.0  0.0 \n",
      " tail of data is                15   16   17\n",
      "next_meeting               \n",
      "2021-09-22    0.0  0.0  0.0\n",
      "2021-11-03    0.0  0.0  0.0\n",
      "2021-12-15    0.0  0.0  0.0\n",
      "Y: len is 232 and head of data is next_meeting\n",
      "1994-07-06    2.0\n",
      "1994-07-20    2.0\n",
      "1994-09-27    2.0\n",
      "Name: RateDecision_10, dtype: float64 \n",
      " tail data is next_meeting\n",
      "1994-07-06    2.0\n",
      "1994-07-20    2.0\n",
      "1994-09-27    2.0\n",
      "1994-11-15    2.0\n",
      "1994-12-20    2.0\n",
      "             ... \n",
      "2021-06-16    2.0\n",
      "2021-07-28    2.0\n",
      "2021-09-22    2.0\n",
      "2021-11-03    2.0\n",
      "2021-12-15    2.0\n",
      "Name: RateDecision_10, Length: 232, dtype: float64 and \n",
      "10-Ahead Accuracy:  0.6595744680851063\n",
      "10-Ahead ROC score:  0.7261234448734449\n"
     ]
    },
    {
     "data": {
      "image/png": "[encoded data removed]",
      "text/plain": [
       "<Figure size 432x288 with 1 Axes>"
      ]
     },
     "metadata": {
      "needs_background": "light"
     },
     "output_type": "display_data"
    },
    {
     "name": "stdout",
     "output_type": "stream",
     "text": [
      "Step is 11 for column RateDecision_11\n",
      "X: len is 231, head of data is                15   16   17\n",
      "next_meeting               \n",
      "1994-07-20    0.0  0.0  0.0\n",
      "1994-09-27    0.0  0.0  0.0\n",
      "1994-11-15    0.0  0.0  0.0 \n",
      " tail of data is                15   16   17\n",
      "next_meeting               \n",
      "2021-09-22    0.0  0.0  0.0\n",
      "2021-11-03    0.0  0.0  0.0\n",
      "2021-12-15    0.0  0.0  0.0\n",
      "Y: len is 231 and head of data is next_meeting\n",
      "1994-07-20    2.0\n",
      "1994-09-27    2.0\n",
      "1994-11-15    2.0\n",
      "Name: RateDecision_11, dtype: float64 \n",
      " tail data is next_meeting\n",
      "1994-07-20    2.0\n",
      "1994-09-27    2.0\n",
      "1994-11-15    2.0\n",
      "1994-12-20    2.0\n",
      "1994-12-30    2.0\n",
      "             ... \n",
      "2021-06-16    2.0\n",
      "2021-07-28    2.0\n",
      "2021-09-22    2.0\n",
      "2021-11-03    2.0\n",
      "2021-12-15    2.0\n",
      "Name: RateDecision_11, Length: 231, dtype: float64 and \n",
      "11-Ahead Accuracy:  0.723404255319149\n",
      "11-Ahead ROC score:  0.8011931574431573\n"
     ]
    },
    {
     "data": {
      "image/png": "[encoded data removed]",
      "text/plain": [
       "<Figure size 432x288 with 1 Axes>"
      ]
     },
     "metadata": {
      "needs_background": "light"
     },
     "output_type": "display_data"
    },
    {
     "name": "stdout",
     "output_type": "stream",
     "text": [
      "Step is 12 for column RateDecision_12\n",
      "X: len is 230, head of data is                15   16   17\n",
      "next_meeting               \n",
      "1994-09-27    0.0  0.0  0.0\n",
      "1994-11-15    0.0  0.0  0.0\n",
      "1994-12-20    0.0  0.0  0.0 \n",
      " tail of data is                15   16   17\n",
      "next_meeting               \n",
      "2021-09-22    0.0  0.0  0.0\n",
      "2021-11-03    0.0  0.0  0.0\n",
      "2021-12-15    0.0  0.0  0.0\n",
      "Y: len is 230 and head of data is next_meeting\n",
      "1994-09-27    2.0\n",
      "1994-11-15    2.0\n",
      "1994-12-20    2.0\n",
      "Name: RateDecision_12, dtype: float64 \n",
      " tail data is next_meeting\n",
      "1994-09-27    2.0\n",
      "1994-11-15    2.0\n",
      "1994-12-20    2.0\n",
      "1994-12-30    2.0\n",
      "1995-03-10    2.0\n",
      "             ... \n",
      "2021-06-16    2.0\n",
      "2021-07-28    2.0\n",
      "2021-09-22    2.0\n",
      "2021-11-03    2.0\n",
      "2021-12-15    2.0\n",
      "Name: RateDecision_12, Length: 230, dtype: float64 and \n",
      "12-Ahead Accuracy:  0.6521739130434783\n",
      "12-Ahead ROC score:  0.7123721479150276\n"
     ]
    },
    {
     "data": {
      "image/png": "[encoded data removed]",
      "text/plain": [
       "<Figure size 432x288 with 1 Axes>"
      ]
     },
     "metadata": {
      "needs_background": "light"
     },
     "output_type": "display_data"
    },
    {
     "data": {
      "text/plain": [
       "[2, 3, 2, 2, 2, 3, 3, 2, 2, 2, 2, 2]"
      ]
     },
     "execution_count": 53,
     "metadata": {},
     "output_type": "execute_result"
    }
   ],
   "source": [
    "n_steps = list(range(1,13))\n",
    "multi_step_pred('RateDecision', n_steps)"
   ]
  },
  {
   "cell_type": "code",
   "execution_count": 56,
   "metadata": {},
   "outputs": [
    {
     "data": {
      "text/plain": [
       "0     2\n",
       "1     3\n",
       "2     2\n",
       "3     2\n",
       "4     2\n",
       "5     3\n",
       "6     3\n",
       "7     2\n",
       "8     2\n",
       "9     2\n",
       "10    2\n",
       "11    2\n",
       "dtype: int64"
      ]
     },
     "execution_count": 56,
     "metadata": {},
     "output_type": "execute_result"
    }
   ],
   "source": [
    "future_pred = pd.Series(future_pred)\n",
    "future_pred"
   ]
  },
  {
   "cell_type": "code",
   "execution_count": 57,
   "metadata": {},
   "outputs": [
    {
     "data": {
      "text/plain": [
       "1993-05-18 00:00:00    2\n",
       "1993-07-07 00:00:00    2\n",
       "1993-08-17 00:00:00    2\n",
       "1993-09-21 00:00:00    2\n",
       "1993-10-05 00:00:00    2\n",
       "                      ..\n",
       "7                      2\n",
       "8                      2\n",
       "9                      2\n",
       "10                     2\n",
       "11                     2\n",
       "Length: 254, dtype: int64"
      ]
     },
     "execution_count": 57,
     "metadata": {},
     "output_type": "execute_result"
    }
   ],
   "source": [
    "ffr_data = data['RateDecision']\n",
    "ffr_data = ffr_data.append((future_pred))\n",
    "ffr_data"
   ]
  },
  {
   "cell_type": "code",
   "execution_count": 58,
   "metadata": {},
   "outputs": [
    {
     "data": {
      "text/plain": [
       "2    175\n",
       "3     42\n",
       "1     37\n",
       "dtype: int64"
      ]
     },
     "execution_count": 58,
     "metadata": {},
     "output_type": "execute_result"
    }
   ],
   "source": [
    "ffr_data.value_counts()"
   ]
  },
  {
   "cell_type": "code",
   "execution_count": 60,
   "metadata": {},
   "outputs": [
    {
     "data": {
      "text/plain": [
       "2020-07-29 00:00:00    2\n",
       "2020-08-27 00:00:00    2\n",
       "2020-09-16 00:00:00    2\n",
       "2020-11-05 00:00:00    2\n",
       "2020-12-16 00:00:00    2\n",
       "2021-01-27 00:00:00    2\n",
       "2021-03-17 00:00:00    2\n",
       "2021-04-28 00:00:00    2\n",
       "2021-06-16 00:00:00    2\n",
       "2021-07-28 00:00:00    2\n",
       "2021-09-22 00:00:00    2\n",
       "2021-11-03 00:00:00    2\n",
       "2021-12-15 00:00:00    2\n",
       "0                      2\n",
       "1                      3\n",
       "2                      2\n",
       "3                      2\n",
       "4                      2\n",
       "5                      3\n",
       "6                      3\n",
       "7                      2\n",
       "8                      2\n",
       "9                      2\n",
       "10                     2\n",
       "11                     2\n",
       "dtype: int64"
      ]
     },
     "execution_count": 60,
     "metadata": {},
     "output_type": "execute_result"
    }
   ],
   "source": [
    "ffr_data.tail(25)"
   ]
  },
  {
   "cell_type": "markdown",
   "metadata": {},
   "source": [
    "## Save Output"
   ]
  },
  {
   "cell_type": "code",
   "execution_count": 61,
   "metadata": {},
   "outputs": [],
   "source": [
    "ffr_data.to_csv('../data/fed_funds_predictions.csv', index=True)"
   ]
  },
  {
   "cell_type": "code",
   "execution_count": null,
   "metadata": {},
   "outputs": [],
   "source": []
  }
 ],
 "metadata": {
  "kernelspec": {
   "display_name": "Python 3 (ipykernel)",
   "language": "python",
   "name": "python3"
  },
  "language_info": {
   "codemirror_mode": {
    "name": "ipython",
    "version": 3
   },
   "file_extension": ".py",
   "mimetype": "text/x-python",
   "name": "python",
   "nbconvert_exporter": "python",
   "pygments_lexer": "ipython3",
   "version": "3.9.7"
  }
 },
 "nbformat": 4,
 "nbformat_minor": 4
}
